{
 "cells": [
  {
   "cell_type": "code",
   "execution_count": 1,
   "metadata": {
    "colab": {
     "base_uri": "https://localhost:8080/"
    },
    "id": "ypC8bmwlfbFi",
    "outputId": "cb383446-170b-4e5e-a0de-46749f4a9803"
   },
   "outputs": [
    {
     "name": "stdout",
     "output_type": "stream",
     "text": [
      "Collecting gdown\n",
      "  Obtaining dependency information for gdown from https://files.pythonhosted.org/packages/54/70/e07c381e6488a77094f04c85c9caf1c8008cdc30778f7019bc52e5285ef0/gdown-5.2.0-py3-none-any.whl.metadata\n",
      "  Downloading gdown-5.2.0-py3-none-any.whl.metadata (5.8 kB)\n",
      "Requirement already satisfied: beautifulsoup4 in d:\\subhrajit\\anaconda3\\lib\\site-packages (from gdown) (4.12.2)\n",
      "Requirement already satisfied: filelock in d:\\subhrajit\\anaconda3\\lib\\site-packages (from gdown) (3.3.1)\n",
      "Requirement already satisfied: requests[socks] in d:\\subhrajit\\anaconda3\\lib\\site-packages (from gdown) (2.31.0)\n",
      "Requirement already satisfied: tqdm in d:\\subhrajit\\anaconda3\\lib\\site-packages (from gdown) (4.62.3)\n",
      "Requirement already satisfied: soupsieve>1.2 in d:\\subhrajit\\anaconda3\\lib\\site-packages (from beautifulsoup4->gdown) (2.2.1)\n",
      "Requirement already satisfied: charset-normalizer<4,>=2 in d:\\subhrajit\\anaconda3\\lib\\site-packages (from requests[socks]->gdown) (2.0.4)\n",
      "Requirement already satisfied: idna<4,>=2.5 in d:\\subhrajit\\anaconda3\\lib\\site-packages (from requests[socks]->gdown) (3.2)\n",
      "Requirement already satisfied: urllib3<3,>=1.21.1 in d:\\subhrajit\\anaconda3\\lib\\site-packages (from requests[socks]->gdown) (1.26.7)\n",
      "Requirement already satisfied: certifi>=2017.4.17 in d:\\subhrajit\\anaconda3\\lib\\site-packages (from requests[socks]->gdown) (2023.7.22)\n",
      "Requirement already satisfied: PySocks!=1.5.7,>=1.5.6 in d:\\subhrajit\\anaconda3\\lib\\site-packages (from requests[socks]->gdown) (1.7.1)\n",
      "Requirement already satisfied: colorama in d:\\subhrajit\\anaconda3\\lib\\site-packages (from tqdm->gdown) (0.4.4)\n",
      "Downloading gdown-5.2.0-py3-none-any.whl (18 kB)\n",
      "Installing collected packages: gdown\n",
      "Successfully installed gdown-5.2.0\n"
     ]
    },
    {
     "name": "stderr",
     "output_type": "stream",
     "text": [
      "WARNING: Ignoring invalid distribution -rotobuf (d:\\subhrajit\\anaconda3\\lib\\site-packages)\n",
      "WARNING: Ignoring invalid distribution -rotobuf (d:\\subhrajit\\anaconda3\\lib\\site-packages)\n",
      "DEPRECATION: pyodbc 4.0.0-unsupported has a non-standard version number. pip 23.3 will enforce this behaviour change. A possible replacement is to upgrade to a newer version of pyodbc or contact the author to suggest that they release a version with a conforming version number. Discussion can be found at https://github.com/pypa/pip/issues/12063\n",
      "\n",
      "[notice] A new release of pip is available: 23.2.1 -> 25.0.1\n",
      "[notice] To update, run: python.exe -m pip install --upgrade pip\n"
     ]
    }
   ],
   "source": [
    "!pip install --upgrade --no-cache-dir gdown"
   ]
  },
  {
   "cell_type": "code",
   "execution_count": 2,
   "metadata": {
    "id": "3lprsX2HfiKZ"
   },
   "outputs": [],
   "source": [
    "import pandas as pd\n",
    "import numpy as np\n",
    "import pylab as p\n",
    "import matplotlib.pyplot as plot\n",
    "from collections import Counter\n",
    "import re\n",
    "import os\n",
    "import seaborn as sns\n"
   ]
  },
  {
   "cell_type": "code",
   "execution_count": 3,
   "metadata": {
    "id": "rykfssQpfkmP"
   },
   "outputs": [],
   "source": [
    "import warnings\n",
    "warnings.filterwarnings(\"ignore\")\n",
    "warnings.simplefilter(\"ignore\")"
   ]
  },
  {
   "cell_type": "code",
   "execution_count": 4,
   "metadata": {
    "colab": {
     "base_uri": "https://localhost:8080/"
    },
    "id": "z0XK5srwfpCY",
    "outputId": "16203d22-12c0-4731-e22b-caf66252ed75"
   },
   "outputs": [
    {
     "name": "stderr",
     "output_type": "stream",
     "text": [
      "D:\\Subhrajit\\anaconda3\\lib\\site-packages\\gdown\\__main__.py:140: FutureWarning: Option `--id` was deprecated in version 4.3.1 and will be removed in 5.0. You don't need to pass it anymore to use a file ID.\n",
      "  warnings.warn(\n",
      "Downloading...\n",
      "From (original): https://drive.google.com/uc?id=1CJOMYyg64x3gN52p6OqypN6UUgDnUhkm\n",
      "From (redirected): https://drive.google.com/uc?id=1CJOMYyg64x3gN52p6OqypN6UUgDnUhkm&confirm=t&uuid=39d4406a-4386-49ed-8ace-744df56fde58\n",
      "To: C:\\Users\\PREDATOR\\Scaler\\Unsupervised and RecSys\\new_train.csv\n",
      "\n",
      "  0%|          | 0.00/425M [00:00<?, ?B/s]\n",
      "  0%|          | 524k/425M [00:00<01:40, 4.21MB/s]\n",
      "  0%|          | 2.10M/425M [00:00<00:43, 9.68MB/s]\n",
      "  1%|          | 4.19M/425M [00:00<00:29, 14.3MB/s]\n",
      "  2%|1         | 7.86M/425M [00:00<00:19, 21.5MB/s]\n",
      "  2%|2         | 10.5M/425M [00:00<00:22, 18.1MB/s]\n",
      "  3%|2         | 12.6M/425M [00:00<00:32, 12.8MB/s]\n",
      "  3%|3         | 14.2M/425M [00:01<00:40, 10.2MB/s]\n",
      "  4%|3         | 15.7M/425M [00:01<00:52, 7.79MB/s]\n",
      "  4%|4         | 17.3M/425M [00:01<01:00, 6.78MB/s]\n",
      "  5%|4         | 19.4M/425M [00:02<00:58, 6.96MB/s]\n",
      "  6%|5         | 23.6M/425M [00:02<00:43, 9.17MB/s]\n",
      "  6%|6         | 26.7M/425M [00:02<00:32, 12.1MB/s]\n",
      "  7%|6         | 28.8M/425M [00:02<00:36, 10.7MB/s]\n",
      "  8%|7         | 32.0M/425M [00:03<00:37, 10.5MB/s]\n",
      "  8%|8         | 34.6M/425M [00:03<00:30, 12.6MB/s]\n",
      "  9%|8         | 36.7M/425M [00:03<00:31, 12.1MB/s]\n",
      "  9%|9         | 39.8M/425M [00:03<00:25, 15.3MB/s]\n",
      " 10%|9         | 41.9M/425M [00:03<00:30, 12.7MB/s]\n",
      " 10%|#         | 44.6M/425M [00:03<00:30, 12.4MB/s]\n",
      " 11%|#1        | 47.7M/425M [00:04<00:24, 15.6MB/s]\n",
      " 12%|#1        | 49.8M/425M [00:04<00:28, 13.2MB/s]\n",
      " 12%|#2        | 52.4M/425M [00:04<00:24, 15.2MB/s]\n",
      " 13%|#2        | 55.1M/425M [00:04<00:23, 15.7MB/s]\n",
      " 14%|#3        | 57.7M/425M [00:04<00:20, 17.6MB/s]\n",
      " 14%|#4        | 60.3M/425M [00:04<00:18, 19.4MB/s]\n",
      " 15%|#4        | 62.9M/425M [00:04<00:19, 18.2MB/s]\n",
      " 15%|#5        | 65.0M/425M [00:05<00:19, 18.2MB/s]\n",
      " 16%|#5        | 67.1M/425M [00:05<00:19, 18.3MB/s]\n",
      " 17%|#6        | 70.8M/425M [00:05<00:16, 21.5MB/s]\n",
      " 17%|#7        | 73.4M/425M [00:05<00:22, 15.8MB/s]\n",
      " 18%|#7        | 75.5M/425M [00:05<00:21, 16.6MB/s]\n",
      " 18%|#8        | 78.1M/425M [00:05<00:19, 18.2MB/s]\n",
      " 19%|#8        | 80.2M/425M [00:05<00:18, 18.5MB/s]\n",
      " 19%|#9        | 82.3M/425M [00:06<00:18, 18.7MB/s]\n",
      " 20%|#9        | 84.4M/425M [00:06<00:18, 18.1MB/s]\n",
      " 20%|##        | 86.5M/425M [00:06<00:19, 17.6MB/s]\n",
      " 21%|##        | 88.6M/425M [00:06<00:18, 18.0MB/s]\n",
      " 21%|##1       | 90.7M/425M [00:06<00:18, 18.4MB/s]\n",
      " 22%|##1       | 92.8M/425M [00:06<00:17, 18.6MB/s]\n",
      " 22%|##2       | 94.9M/425M [00:06<00:17, 18.8MB/s]\n",
      " 23%|##2       | 97.0M/425M [00:06<00:17, 18.9MB/s]\n",
      " 23%|##3       | 99.1M/425M [00:06<00:17, 19.0MB/s]\n",
      " 24%|##3       | 101M/425M [00:07<00:16, 19.1MB/s] \n",
      " 24%|##4       | 103M/425M [00:07<00:16, 19.1MB/s]\n",
      " 25%|##4       | 105M/425M [00:07<00:16, 19.1MB/s]\n",
      " 25%|##5       | 107M/425M [00:07<00:16, 19.2MB/s]\n",
      " 26%|##5       | 110M/425M [00:07<00:16, 19.2MB/s]\n",
      " 26%|##6       | 112M/425M [00:07<00:16, 19.2MB/s]\n",
      " 27%|##6       | 114M/425M [00:07<00:16, 19.2MB/s]\n",
      " 27%|##7       | 116M/425M [00:07<00:16, 19.2MB/s]\n",
      " 28%|##7       | 118M/425M [00:07<00:15, 19.2MB/s]\n",
      " 28%|##8       | 120M/425M [00:07<00:15, 19.3MB/s]\n",
      " 29%|##8       | 122M/425M [00:08<00:15, 19.3MB/s]\n",
      " 29%|##9       | 124M/425M [00:08<00:21, 13.7MB/s]\n",
      " 30%|###       | 128M/425M [00:08<00:15, 19.4MB/s]\n",
      " 31%|###       | 131M/425M [00:08<00:16, 17.9MB/s]\n",
      " 31%|###1      | 133M/425M [00:08<00:17, 17.0MB/s]\n",
      " 32%|###1      | 135M/425M [00:08<00:17, 16.4MB/s]\n",
      " 32%|###2      | 137M/425M [00:09<00:17, 16.0MB/s]\n",
      " 33%|###2      | 139M/425M [00:09<00:18, 15.2MB/s]\n",
      " 33%|###3      | 142M/425M [00:09<00:18, 15.6MB/s]\n",
      " 34%|###3      | 144M/425M [00:09<00:18, 15.4MB/s]\n",
      " 34%|###4      | 146M/425M [00:09<00:18, 15.3MB/s]\n",
      " 35%|###4      | 147M/425M [00:09<00:18, 15.2MB/s]\n",
      " 35%|###5      | 149M/425M [00:09<00:18, 15.1MB/s]\n",
      " 35%|###5      | 150M/425M [00:09<00:18, 15.1MB/s]\n",
      " 36%|###5      | 152M/425M [00:10<00:18, 15.1MB/s]\n",
      " 36%|###6      | 154M/425M [00:10<00:18, 15.1MB/s]\n",
      " 37%|###6      | 155M/425M [00:10<00:17, 15.0MB/s]\n",
      " 37%|###6      | 157M/425M [00:10<00:17, 15.0MB/s]\n",
      " 37%|###7      | 158M/425M [00:10<00:17, 15.0MB/s]\n",
      " 38%|###7      | 160M/425M [00:10<00:17, 14.9MB/s]\n",
      " 38%|###8      | 163M/425M [00:10<00:13, 19.0MB/s]\n",
      " 39%|###9      | 166M/425M [00:10<00:11, 21.6MB/s]\n",
      " 40%|###9      | 169M/425M [00:11<00:18, 13.9MB/s]\n",
      " 41%|####      | 174M/425M [00:11<00:12, 20.4MB/s]\n",
      " 42%|####1     | 177M/425M [00:11<00:12, 20.0MB/s]\n",
      " 42%|####2     | 179M/425M [00:11<00:12, 19.6MB/s]\n",
      " 43%|####2     | 182M/425M [00:11<00:12, 19.3MB/s]\n",
      " 43%|####3     | 184M/425M [00:11<00:12, 19.1MB/s]\n",
      " 44%|####3     | 186M/425M [00:11<00:12, 19.0MB/s]\n",
      " 44%|####4     | 188M/425M [00:12<00:12, 18.9MB/s]\n",
      " 45%|####4     | 190M/425M [00:12<00:12, 18.8MB/s]\n",
      " 45%|####5     | 192M/425M [00:12<00:12, 18.8MB/s]\n",
      " 46%|####5     | 195M/425M [00:12<00:12, 18.7MB/s]\n",
      " 46%|####6     | 197M/425M [00:12<00:12, 18.7MB/s]\n",
      " 47%|####6     | 199M/425M [00:12<00:12, 18.7MB/s]\n",
      " 47%|####7     | 201M/425M [00:12<00:12, 18.7MB/s]\n",
      " 48%|####7     | 203M/425M [00:12<00:11, 18.6MB/s]\n",
      " 48%|####8     | 205M/425M [00:12<00:11, 18.5MB/s]\n",
      " 49%|####8     | 207M/425M [00:13<00:11, 18.7MB/s]\n",
      " 49%|####9     | 210M/425M [00:13<00:10, 20.6MB/s]\n",
      " 50%|####9     | 212M/425M [00:13<00:09, 21.4MB/s]\n",
      " 51%|#####     | 215M/425M [00:13<00:14, 14.8MB/s]\n",
      " 52%|#####1    | 219M/425M [00:13<00:10, 20.3MB/s]\n",
      " 52%|#####2    | 222M/425M [00:13<00:10, 19.4MB/s]\n",
      " 53%|#####2    | 224M/425M [00:13<00:10, 18.8MB/s]\n",
      " 53%|#####3    | 226M/425M [00:14<00:10, 18.5MB/s]\n",
      " 54%|#####3    | 229M/425M [00:14<00:10, 17.9MB/s]\n",
      " 54%|#####4    | 231M/425M [00:14<00:10, 18.1MB/s]\n",
      " 55%|#####4    | 233M/425M [00:14<00:10, 17.9MB/s]\n",
      " 55%|#####5    | 235M/425M [00:14<00:10, 17.8MB/s]\n",
      " 56%|#####5    | 237M/425M [00:14<00:10, 17.7MB/s]\n",
      " 56%|#####6    | 239M/425M [00:14<00:10, 17.6MB/s]\n",
      " 57%|#####6    | 241M/425M [00:14<00:10, 17.5MB/s]\n",
      " 57%|#####7    | 243M/425M [00:15<00:10, 17.5MB/s]\n",
      " 58%|#####7    | 245M/425M [00:15<00:10, 17.5MB/s]\n",
      " 58%|#####8    | 247M/425M [00:15<00:12, 14.4MB/s]\n",
      " 59%|#####8    | 249M/425M [00:15<00:12, 13.9MB/s]\n",
      " 59%|#####9    | 251M/425M [00:15<00:11, 15.4MB/s]\n",
      " 60%|#####9    | 253M/425M [00:15<00:10, 16.5MB/s]\n",
      " 60%|######    | 255M/425M [00:15<00:09, 17.5MB/s]\n",
      " 61%|######    | 257M/425M [00:15<00:09, 18.1MB/s]\n",
      " 61%|######1   | 260M/425M [00:16<00:08, 18.8MB/s]\n",
      " 62%|######1   | 262M/425M [00:16<00:08, 19.2MB/s]\n",
      " 62%|######2   | 264M/425M [00:16<00:08, 19.6MB/s]\n",
      " 63%|######2   | 266M/425M [00:16<00:08, 19.8MB/s]\n",
      " 63%|######3   | 268M/425M [00:16<00:07, 20.2MB/s]\n",
      " 64%|######3   | 271M/425M [00:16<00:07, 20.6MB/s]\n",
      " 64%|######4   | 273M/425M [00:16<00:07, 20.7MB/s]\n",
      " 65%|######4   | 276M/425M [00:16<00:07, 21.1MB/s]\n",
      " 66%|######5   | 278M/425M [00:16<00:06, 21.0MB/s]\n",
      " 66%|######6   | 281M/425M [00:17<00:07, 20.4MB/s]\n",
      " 67%|######6   | 283M/425M [00:17<00:07, 20.1MB/s]\n",
      " 67%|######7   | 285M/425M [00:17<00:07, 19.8MB/s]\n",
      " 68%|######7   | 287M/425M [00:17<00:07, 19.6MB/s]\n",
      " 68%|######8   | 289M/425M [00:17<00:06, 19.5MB/s]\n",
      " 69%|######8   | 292M/425M [00:17<00:06, 19.5MB/s]\n",
      " 69%|######9   | 294M/425M [00:17<00:06, 19.4MB/s]\n",
      " 70%|######9   | 296M/425M [00:17<00:06, 19.3MB/s]\n",
      " 70%|#######   | 298M/425M [00:17<00:06, 19.3MB/s]\n",
      " 71%|#######   | 300M/425M [00:18<00:06, 19.2MB/s]\n",
      " 71%|#######1  | 302M/425M [00:18<00:06, 19.3MB/s]\n",
      " 72%|#######1  | 304M/425M [00:18<00:06, 19.2MB/s]\n",
      " 72%|#######2  | 306M/425M [00:18<00:06, 19.3MB/s]\n",
      " 73%|#######2  | 308M/425M [00:18<00:06, 19.4MB/s]\n",
      " 73%|#######3  | 310M/425M [00:18<00:05, 19.3MB/s]\n",
      " 74%|#######3  | 312M/425M [00:18<00:05, 19.3MB/s]\n",
      " 74%|#######4  | 315M/425M [00:18<00:05, 19.3MB/s]\n",
      " 75%|#######4  | 317M/425M [00:18<00:05, 19.3MB/s]\n",
      " 75%|#######5  | 319M/425M [00:19<00:06, 17.3MB/s]\n",
      " 76%|#######5  | 321M/425M [00:19<00:05, 17.5MB/s]\n",
      " 76%|#######6  | 323M/425M [00:19<00:05, 17.9MB/s]\n",
      " 76%|#######6  | 325M/425M [00:19<00:05, 18.3MB/s]\n",
      " 77%|#######6  | 327M/425M [00:19<00:05, 18.6MB/s]\n",
      " 77%|#######7  | 329M/425M [00:19<00:05, 18.7MB/s]\n",
      " 78%|#######7  | 331M/425M [00:19<00:04, 19.0MB/s]\n",
      " 78%|#######8  | 333M/425M [00:19<00:04, 19.0MB/s]\n",
      " 79%|#######8  | 336M/425M [00:19<00:04, 19.0MB/s]\n",
      " 79%|#######9  | 338M/425M [00:20<00:04, 19.2MB/s]\n",
      " 80%|#######9  | 340M/425M [00:20<00:04, 19.2MB/s]\n",
      " 80%|########  | 342M/425M [00:20<00:04, 19.2MB/s]\n",
      " 81%|########  | 344M/425M [00:20<00:04, 19.2MB/s]\n",
      " 81%|########1 | 346M/425M [00:20<00:04, 19.2MB/s]\n",
      " 82%|########1 | 348M/425M [00:20<00:05, 14.9MB/s]\n",
      " 82%|########2 | 350M/425M [00:20<00:04, 16.2MB/s]\n",
      " 83%|########3 | 353M/425M [00:20<00:04, 17.8MB/s]\n",
      " 84%|########3 | 355M/425M [00:21<00:03, 19.1MB/s]\n",
      " 84%|########4 | 358M/425M [00:21<00:03, 20.2MB/s]\n",
      " 85%|########4 | 361M/425M [00:21<00:03, 21.0MB/s]\n",
      " 86%|########5 | 363M/425M [00:21<00:02, 20.8MB/s]\n",
      " 86%|########6 | 366M/425M [00:21<00:02, 20.3MB/s]\n",
      " 87%|########6 | 368M/425M [00:21<00:02, 20.0MB/s]\n",
      " 87%|########7 | 370M/425M [00:21<00:02, 19.8MB/s]\n",
      " 88%|########7 | 372M/425M [00:21<00:02, 19.6MB/s]\n",
      " 88%|########8 | 374M/425M [00:21<00:02, 18.6MB/s]\n",
      " 89%|########8 | 377M/425M [00:22<00:02, 19.7MB/s]\n",
      " 89%|########9 | 379M/425M [00:22<00:02, 19.6MB/s]\n",
      " 90%|########9 | 381M/425M [00:22<00:02, 19.5MB/s]\n",
      " 90%|######### | 383M/425M [00:22<00:02, 19.4MB/s]\n",
      " 91%|######### | 385M/425M [00:22<00:02, 19.3MB/s]\n",
      " 91%|#########1| 387M/425M [00:22<00:01, 19.3MB/s]\n",
      " 92%|#########1| 390M/425M [00:22<00:01, 18.8MB/s]\n",
      " 92%|#########2| 392M/425M [00:22<00:01, 19.3MB/s]\n",
      " 93%|#########2| 394M/425M [00:22<00:01, 19.4MB/s]\n",
      " 93%|#########3| 396M/425M [00:23<00:01, 19.1MB/s]\n",
      " 94%|#########3| 398M/425M [00:23<00:01, 19.4MB/s]\n",
      " 94%|#########4| 400M/425M [00:23<00:01, 19.2MB/s]\n",
      " 95%|#########4| 402M/425M [00:23<00:01, 18.1MB/s]\n",
      " 95%|#########5| 404M/425M [00:23<00:01, 17.8MB/s]\n",
      " 96%|#########5| 406M/425M [00:23<00:01, 17.5MB/s]\n",
      " 96%|#########6| 408M/425M [00:23<00:00, 17.9MB/s]\n",
      " 97%|#########6| 411M/425M [00:23<00:00, 18.2MB/s]\n",
      " 97%|#########7| 413M/425M [00:24<00:00, 18.5MB/s]\n",
      " 98%|#########7| 415M/425M [00:24<00:00, 18.7MB/s]\n",
      " 98%|#########8| 417M/425M [00:24<00:00, 18.9MB/s]\n",
      " 99%|#########8| 419M/425M [00:24<00:00, 19.0MB/s]\n",
      " 99%|#########9| 421M/425M [00:24<00:00, 19.0MB/s]\n",
      "100%|#########9| 423M/425M [00:24<00:00, 19.1MB/s]\n",
      "100%|##########| 425M/425M [00:24<00:00, 17.2MB/s]\n"
     ]
    }
   ],
   "source": [
    "import gdown\n",
    "\n",
    "url='https://drive.google.com/file/d/1CJOMYyg64x3gN52p6OqypN6UUgDnUhkm/view?usp=sharing'\n",
    "\n",
    "ider=url.split('/')[-2]\n",
    "!gdown --id $ider"
   ]
  },
  {
   "cell_type": "code",
   "execution_count": 5,
   "metadata": {
    "id": "cc5sjavWftkA"
   },
   "outputs": [],
   "source": [
    "train = pd.read_csv('new_train.csv')\n"
   ]
  },
  {
   "cell_type": "code",
   "execution_count": 6,
   "metadata": {
    "colab": {
     "base_uri": "https://localhost:8080/",
     "height": 325
    },
    "id": "-vKJ28vVfxnv",
    "outputId": "135b5918-85c7-4c2c-ed53-db017d280dfb"
   },
   "outputs": [
    {
     "data": {
      "text/html": [
       "<div>\n",
       "<style scoped>\n",
       "    .dataframe tbody tr th:only-of-type {\n",
       "        vertical-align: middle;\n",
       "    }\n",
       "\n",
       "    .dataframe tbody tr th {\n",
       "        vertical-align: top;\n",
       "    }\n",
       "\n",
       "    .dataframe thead th {\n",
       "        text-align: right;\n",
       "    }\n",
       "</style>\n",
       "<table border=\"1\" class=\"dataframe\">\n",
       "  <thead>\n",
       "    <tr style=\"text-align: right;\">\n",
       "      <th></th>\n",
       "      <th>Page</th>\n",
       "      <th>2015-07-01</th>\n",
       "      <th>2015-07-02</th>\n",
       "      <th>2015-07-03</th>\n",
       "      <th>2015-07-04</th>\n",
       "      <th>2015-07-05</th>\n",
       "      <th>2015-07-06</th>\n",
       "      <th>2015-07-07</th>\n",
       "      <th>2015-07-08</th>\n",
       "      <th>2015-07-09</th>\n",
       "      <th>...</th>\n",
       "      <th>2016-12-22</th>\n",
       "      <th>2016-12-23</th>\n",
       "      <th>2016-12-24</th>\n",
       "      <th>2016-12-25</th>\n",
       "      <th>2016-12-26</th>\n",
       "      <th>2016-12-27</th>\n",
       "      <th>2016-12-28</th>\n",
       "      <th>2016-12-29</th>\n",
       "      <th>2016-12-30</th>\n",
       "      <th>2016-12-31</th>\n",
       "    </tr>\n",
       "  </thead>\n",
       "  <tbody>\n",
       "    <tr>\n",
       "      <th>0</th>\n",
       "      <td>2NE1_zh.britanica.org_all-access_spider</td>\n",
       "      <td>18.0</td>\n",
       "      <td>11.0</td>\n",
       "      <td>5.0</td>\n",
       "      <td>13.0</td>\n",
       "      <td>14.0</td>\n",
       "      <td>9.0</td>\n",
       "      <td>9.0</td>\n",
       "      <td>22.0</td>\n",
       "      <td>26.0</td>\n",
       "      <td>...</td>\n",
       "      <td>32.0</td>\n",
       "      <td>63.0</td>\n",
       "      <td>15.0</td>\n",
       "      <td>26.0</td>\n",
       "      <td>14.0</td>\n",
       "      <td>20.0</td>\n",
       "      <td>22.0</td>\n",
       "      <td>19.0</td>\n",
       "      <td>18.0</td>\n",
       "      <td>20.0</td>\n",
       "    </tr>\n",
       "    <tr>\n",
       "      <th>1</th>\n",
       "      <td>2PM_zh.britanica.org_all-access_spider</td>\n",
       "      <td>11.0</td>\n",
       "      <td>14.0</td>\n",
       "      <td>15.0</td>\n",
       "      <td>18.0</td>\n",
       "      <td>11.0</td>\n",
       "      <td>13.0</td>\n",
       "      <td>22.0</td>\n",
       "      <td>11.0</td>\n",
       "      <td>10.0</td>\n",
       "      <td>...</td>\n",
       "      <td>17.0</td>\n",
       "      <td>42.0</td>\n",
       "      <td>28.0</td>\n",
       "      <td>15.0</td>\n",
       "      <td>9.0</td>\n",
       "      <td>30.0</td>\n",
       "      <td>52.0</td>\n",
       "      <td>45.0</td>\n",
       "      <td>26.0</td>\n",
       "      <td>20.0</td>\n",
       "    </tr>\n",
       "    <tr>\n",
       "      <th>2</th>\n",
       "      <td>3C_zh.britanica.org_all-access_spider</td>\n",
       "      <td>1.0</td>\n",
       "      <td>0.0</td>\n",
       "      <td>1.0</td>\n",
       "      <td>1.0</td>\n",
       "      <td>0.0</td>\n",
       "      <td>4.0</td>\n",
       "      <td>0.0</td>\n",
       "      <td>3.0</td>\n",
       "      <td>4.0</td>\n",
       "      <td>...</td>\n",
       "      <td>3.0</td>\n",
       "      <td>1.0</td>\n",
       "      <td>1.0</td>\n",
       "      <td>7.0</td>\n",
       "      <td>4.0</td>\n",
       "      <td>4.0</td>\n",
       "      <td>6.0</td>\n",
       "      <td>3.0</td>\n",
       "      <td>4.0</td>\n",
       "      <td>17.0</td>\n",
       "    </tr>\n",
       "    <tr>\n",
       "      <th>3</th>\n",
       "      <td>4minute_zh.britanica.org_all-access_spider</td>\n",
       "      <td>35.0</td>\n",
       "      <td>13.0</td>\n",
       "      <td>10.0</td>\n",
       "      <td>94.0</td>\n",
       "      <td>4.0</td>\n",
       "      <td>26.0</td>\n",
       "      <td>14.0</td>\n",
       "      <td>9.0</td>\n",
       "      <td>11.0</td>\n",
       "      <td>...</td>\n",
       "      <td>32.0</td>\n",
       "      <td>10.0</td>\n",
       "      <td>26.0</td>\n",
       "      <td>27.0</td>\n",
       "      <td>16.0</td>\n",
       "      <td>11.0</td>\n",
       "      <td>17.0</td>\n",
       "      <td>19.0</td>\n",
       "      <td>10.0</td>\n",
       "      <td>11.0</td>\n",
       "    </tr>\n",
       "    <tr>\n",
       "      <th>4</th>\n",
       "      <td>52_Hz_I_Love_You_zh.britanica.org_all-access_s...</td>\n",
       "      <td>NaN</td>\n",
       "      <td>NaN</td>\n",
       "      <td>NaN</td>\n",
       "      <td>NaN</td>\n",
       "      <td>NaN</td>\n",
       "      <td>NaN</td>\n",
       "      <td>NaN</td>\n",
       "      <td>NaN</td>\n",
       "      <td>NaN</td>\n",
       "      <td>...</td>\n",
       "      <td>48.0</td>\n",
       "      <td>9.0</td>\n",
       "      <td>25.0</td>\n",
       "      <td>13.0</td>\n",
       "      <td>3.0</td>\n",
       "      <td>11.0</td>\n",
       "      <td>27.0</td>\n",
       "      <td>13.0</td>\n",
       "      <td>36.0</td>\n",
       "      <td>10.0</td>\n",
       "    </tr>\n",
       "  </tbody>\n",
       "</table>\n",
       "<p>5 rows × 551 columns</p>\n",
       "</div>"
      ],
      "text/plain": [
       "                                                Page  2015-07-01  2015-07-02  \\\n",
       "0            2NE1_zh.britanica.org_all-access_spider        18.0        11.0   \n",
       "1             2PM_zh.britanica.org_all-access_spider        11.0        14.0   \n",
       "2              3C_zh.britanica.org_all-access_spider         1.0         0.0   \n",
       "3         4minute_zh.britanica.org_all-access_spider        35.0        13.0   \n",
       "4  52_Hz_I_Love_You_zh.britanica.org_all-access_s...         NaN         NaN   \n",
       "\n",
       "   2015-07-03  2015-07-04  2015-07-05  2015-07-06  2015-07-07  2015-07-08  \\\n",
       "0         5.0        13.0        14.0         9.0         9.0        22.0   \n",
       "1        15.0        18.0        11.0        13.0        22.0        11.0   \n",
       "2         1.0         1.0         0.0         4.0         0.0         3.0   \n",
       "3        10.0        94.0         4.0        26.0        14.0         9.0   \n",
       "4         NaN         NaN         NaN         NaN         NaN         NaN   \n",
       "\n",
       "   2015-07-09  ...  2016-12-22  2016-12-23  2016-12-24  2016-12-25  \\\n",
       "0        26.0  ...        32.0        63.0        15.0        26.0   \n",
       "1        10.0  ...        17.0        42.0        28.0        15.0   \n",
       "2         4.0  ...         3.0         1.0         1.0         7.0   \n",
       "3        11.0  ...        32.0        10.0        26.0        27.0   \n",
       "4         NaN  ...        48.0         9.0        25.0        13.0   \n",
       "\n",
       "   2016-12-26  2016-12-27  2016-12-28  2016-12-29  2016-12-30  2016-12-31  \n",
       "0        14.0        20.0        22.0        19.0        18.0        20.0  \n",
       "1         9.0        30.0        52.0        45.0        26.0        20.0  \n",
       "2         4.0         4.0         6.0         3.0         4.0        17.0  \n",
       "3        16.0        11.0        17.0        19.0        10.0        11.0  \n",
       "4         3.0        11.0        27.0        13.0        36.0        10.0  \n",
       "\n",
       "[5 rows x 551 columns]"
      ]
     },
     "execution_count": 6,
     "metadata": {},
     "output_type": "execute_result"
    }
   ],
   "source": [
    "train.head()"
   ]
  },
  {
   "cell_type": "code",
   "execution_count": 7,
   "metadata": {
    "colab": {
     "base_uri": "https://localhost:8080/"
    },
    "id": "2U2wpKw_pmJw",
    "outputId": "7adda7f8-7752-4f1c-8c7c-35a1c76a5014"
   },
   "outputs": [
    {
     "name": "stdout",
     "output_type": "stream",
     "text": [
      "<class 'pandas.core.frame.DataFrame'>\n",
      "RangeIndex: 145063 entries, 0 to 145062\n",
      "Columns: 551 entries, Page to 2016-12-31\n",
      "dtypes: float64(550), object(1)\n",
      "memory usage: 609.8+ MB\n"
     ]
    }
   ],
   "source": [
    "train.info()"
   ]
  },
  {
   "cell_type": "code",
   "execution_count": 8,
   "metadata": {
    "colab": {
     "base_uri": "https://localhost:8080/"
    },
    "id": "k0s98zhbqFXA",
    "outputId": "0e52a946-4381-4dd3-a7b8-3cc8b281da76"
   },
   "outputs": [
    {
     "data": {
      "text/plain": [
       "(145063, 551)"
      ]
     },
     "execution_count": 8,
     "metadata": {},
     "output_type": "execute_result"
    }
   ],
   "source": [
    "train.shape"
   ]
  },
  {
   "cell_type": "code",
   "execution_count": 9,
   "metadata": {
    "colab": {
     "base_uri": "https://localhost:8080/"
    },
    "id": "0pbWQsRKppi3",
    "outputId": "527ea86d-bd1f-41ed-a6c3-4131f1e65a3b"
   },
   "outputs": [
    {
     "data": {
      "text/plain": [
       "145063"
      ]
     },
     "execution_count": 9,
     "metadata": {},
     "output_type": "execute_result"
    }
   ],
   "source": [
    "len(train)"
   ]
  },
  {
   "cell_type": "markdown",
   "metadata": {
    "id": "DXkE7202qTHy"
   },
   "source": [
    "## Ploting NULL values"
   ]
  },
  {
   "cell_type": "code",
   "execution_count": 10,
   "metadata": {
    "colab": {
     "base_uri": "https://localhost:8080/",
     "height": 637
    },
    "id": "R0G3pPnqqHRH",
    "outputId": "ffe264a6-9160-4c2c-92c0-4a8f5ba05cb4"
   },
   "outputs": [
    {
     "data": {
      "text/plain": [
       "[<matplotlib.lines.Line2D at 0x2583bec22e0>]"
      ]
     },
     "execution_count": 10,
     "metadata": {},
     "output_type": "execute_result"
    },
    {
     "data": {
      "image/png": "[encoded data removed]",
      "text/plain": [
       "<Figure size 720x504 with 1 Axes>"
      ]
     },
     "metadata": {
      "needs_background": "light"
     },
     "output_type": "display_data"
    }
   ],
   "source": [
    "days = [r for r in range(1, len(train.columns))]\n",
    "plot.figure(figsize=(10,7))\n",
    "plot.xlabel('Day')\n",
    "plot.ylabel('Null values')\n",
    "plot.plot(days, train.isnull().sum()[1:])"
   ]
  },
  {
   "cell_type": "markdown",
   "metadata": {
    "id": "G9DdrfzCq59j"
   },
   "source": [
    "**ANALYSIS** <br>\n",
    "The number of NULL values is decreasing which might be due to the fact that some of the websites were created after that time"
   ]
  },
  {
   "cell_type": "code",
   "execution_count": 11,
   "metadata": {
    "colab": {
     "base_uri": "https://localhost:8080/"
    },
    "id": "vqfG9W9PqVtX",
    "outputId": "470b1230-43bc-4e66-f293-e591431b4726"
   },
   "outputs": [
    {
     "name": "stdout",
     "output_type": "stream",
     "text": [
      "(145063, 551)\n",
      "(145063, 551)\n",
      "(133617, 551)\n"
     ]
    }
   ],
   "source": [
    "print(train.shape)\n",
    "train=train.dropna(how='all')\n",
    "#‘all’ : If all values are NA, drop that row or column.\n",
    "print(train.shape)\n",
    "\n",
    "train=train.dropna(thresh=300)\n",
    "print(train.shape)"
   ]
  },
  {
   "cell_type": "markdown",
   "metadata": {
    "id": "RZLBXe-5r9Vl"
   },
   "source": [
    "We are dropping websites which are more than 300 days (i.e 10 months) as NULL as these websites wont be making much sense in our analysis"
   ]
  },
  {
   "cell_type": "code",
   "execution_count": 12,
   "metadata": {
    "colab": {
     "base_uri": "https://localhost:8080/",
     "height": 273
    },
    "id": "N6iu35Gcrsm1",
    "outputId": "4b1bf36a-94c9-43c9-dec6-9627d577d14c"
   },
   "outputs": [
    {
     "data": {
      "text/html": [
       "<div>\n",
       "<style scoped>\n",
       "    .dataframe tbody tr th:only-of-type {\n",
       "        vertical-align: middle;\n",
       "    }\n",
       "\n",
       "    .dataframe tbody tr th {\n",
       "        vertical-align: top;\n",
       "    }\n",
       "\n",
       "    .dataframe thead th {\n",
       "        text-align: right;\n",
       "    }\n",
       "</style>\n",
       "<table border=\"1\" class=\"dataframe\">\n",
       "  <thead>\n",
       "    <tr style=\"text-align: right;\">\n",
       "      <th></th>\n",
       "      <th>Page</th>\n",
       "      <th>2015-07-01</th>\n",
       "      <th>2015-07-02</th>\n",
       "      <th>2015-07-03</th>\n",
       "      <th>2015-07-04</th>\n",
       "      <th>2015-07-05</th>\n",
       "      <th>2015-07-06</th>\n",
       "      <th>2015-07-07</th>\n",
       "      <th>2015-07-08</th>\n",
       "      <th>2015-07-09</th>\n",
       "      <th>...</th>\n",
       "      <th>2016-12-22</th>\n",
       "      <th>2016-12-23</th>\n",
       "      <th>2016-12-24</th>\n",
       "      <th>2016-12-25</th>\n",
       "      <th>2016-12-26</th>\n",
       "      <th>2016-12-27</th>\n",
       "      <th>2016-12-28</th>\n",
       "      <th>2016-12-29</th>\n",
       "      <th>2016-12-30</th>\n",
       "      <th>2016-12-31</th>\n",
       "    </tr>\n",
       "  </thead>\n",
       "  <tbody>\n",
       "    <tr>\n",
       "      <th>145012</th>\n",
       "      <td>Legión_(Marvel_Comics)_es.britanica.org_all-ac...</td>\n",
       "      <td>0.0</td>\n",
       "      <td>0.0</td>\n",
       "      <td>0.0</td>\n",
       "      <td>0.0</td>\n",
       "      <td>0.0</td>\n",
       "      <td>0.0</td>\n",
       "      <td>0.0</td>\n",
       "      <td>0.0</td>\n",
       "      <td>0.0</td>\n",
       "      <td>...</td>\n",
       "      <td>7.0</td>\n",
       "      <td>3.0</td>\n",
       "      <td>2.0</td>\n",
       "      <td>4.0</td>\n",
       "      <td>2.0</td>\n",
       "      <td>4.0</td>\n",
       "      <td>4.0</td>\n",
       "      <td>1.0</td>\n",
       "      <td>2.0</td>\n",
       "      <td>2.0</td>\n",
       "    </tr>\n",
       "    <tr>\n",
       "      <th>145013</th>\n",
       "      <td>Referéndum_sobre_la_permanencia_del_Reino_Unid...</td>\n",
       "      <td>0.0</td>\n",
       "      <td>0.0</td>\n",
       "      <td>0.0</td>\n",
       "      <td>0.0</td>\n",
       "      <td>0.0</td>\n",
       "      <td>0.0</td>\n",
       "      <td>0.0</td>\n",
       "      <td>0.0</td>\n",
       "      <td>0.0</td>\n",
       "      <td>...</td>\n",
       "      <td>9.0</td>\n",
       "      <td>16.0</td>\n",
       "      <td>8.0</td>\n",
       "      <td>3.0</td>\n",
       "      <td>6.0</td>\n",
       "      <td>3.0</td>\n",
       "      <td>3.0</td>\n",
       "      <td>10.0</td>\n",
       "      <td>11.0</td>\n",
       "      <td>3.0</td>\n",
       "    </tr>\n",
       "    <tr>\n",
       "      <th>145014</th>\n",
       "      <td>Salida_del_Reino_Unido_de_la_Unión_Europea_es....</td>\n",
       "      <td>0.0</td>\n",
       "      <td>0.0</td>\n",
       "      <td>0.0</td>\n",
       "      <td>0.0</td>\n",
       "      <td>0.0</td>\n",
       "      <td>0.0</td>\n",
       "      <td>0.0</td>\n",
       "      <td>0.0</td>\n",
       "      <td>0.0</td>\n",
       "      <td>...</td>\n",
       "      <td>29.0</td>\n",
       "      <td>36.0</td>\n",
       "      <td>23.0</td>\n",
       "      <td>182.0</td>\n",
       "      <td>43.0</td>\n",
       "      <td>8.0</td>\n",
       "      <td>22.0</td>\n",
       "      <td>13.0</td>\n",
       "      <td>18.0</td>\n",
       "      <td>14.0</td>\n",
       "    </tr>\n",
       "    <tr>\n",
       "      <th>145015</th>\n",
       "      <td>Amar,_después_de_amar_es.britanica.org_all-acc...</td>\n",
       "      <td>0.0</td>\n",
       "      <td>0.0</td>\n",
       "      <td>0.0</td>\n",
       "      <td>0.0</td>\n",
       "      <td>0.0</td>\n",
       "      <td>0.0</td>\n",
       "      <td>0.0</td>\n",
       "      <td>0.0</td>\n",
       "      <td>0.0</td>\n",
       "      <td>...</td>\n",
       "      <td>7.0</td>\n",
       "      <td>30.0</td>\n",
       "      <td>27.0</td>\n",
       "      <td>14.0</td>\n",
       "      <td>8.0</td>\n",
       "      <td>7.0</td>\n",
       "      <td>5.0</td>\n",
       "      <td>43.0</td>\n",
       "      <td>12.0</td>\n",
       "      <td>25.0</td>\n",
       "    </tr>\n",
       "    <tr>\n",
       "      <th>145016</th>\n",
       "      <td>Anexo:89.º_Premios_Óscar_es.britanica.org_all-...</td>\n",
       "      <td>0.0</td>\n",
       "      <td>0.0</td>\n",
       "      <td>0.0</td>\n",
       "      <td>0.0</td>\n",
       "      <td>0.0</td>\n",
       "      <td>0.0</td>\n",
       "      <td>0.0</td>\n",
       "      <td>0.0</td>\n",
       "      <td>0.0</td>\n",
       "      <td>...</td>\n",
       "      <td>0.0</td>\n",
       "      <td>0.0</td>\n",
       "      <td>1.0</td>\n",
       "      <td>0.0</td>\n",
       "      <td>1.0</td>\n",
       "      <td>0.0</td>\n",
       "      <td>0.0</td>\n",
       "      <td>1.0</td>\n",
       "      <td>1.0</td>\n",
       "      <td>0.0</td>\n",
       "    </tr>\n",
       "  </tbody>\n",
       "</table>\n",
       "<p>5 rows × 551 columns</p>\n",
       "</div>"
      ],
      "text/plain": [
       "                                                     Page  2015-07-01  \\\n",
       "145012  Legión_(Marvel_Comics)_es.britanica.org_all-ac...         0.0   \n",
       "145013  Referéndum_sobre_la_permanencia_del_Reino_Unid...         0.0   \n",
       "145014  Salida_del_Reino_Unido_de_la_Unión_Europea_es....         0.0   \n",
       "145015  Amar,_después_de_amar_es.britanica.org_all-acc...         0.0   \n",
       "145016  Anexo:89.º_Premios_Óscar_es.britanica.org_all-...         0.0   \n",
       "\n",
       "        2015-07-02  2015-07-03  2015-07-04  2015-07-05  2015-07-06  \\\n",
       "145012         0.0         0.0         0.0         0.0         0.0   \n",
       "145013         0.0         0.0         0.0         0.0         0.0   \n",
       "145014         0.0         0.0         0.0         0.0         0.0   \n",
       "145015         0.0         0.0         0.0         0.0         0.0   \n",
       "145016         0.0         0.0         0.0         0.0         0.0   \n",
       "\n",
       "        2015-07-07  2015-07-08  2015-07-09  ...  2016-12-22  2016-12-23  \\\n",
       "145012         0.0         0.0         0.0  ...         7.0         3.0   \n",
       "145013         0.0         0.0         0.0  ...         9.0        16.0   \n",
       "145014         0.0         0.0         0.0  ...        29.0        36.0   \n",
       "145015         0.0         0.0         0.0  ...         7.0        30.0   \n",
       "145016         0.0         0.0         0.0  ...         0.0         0.0   \n",
       "\n",
       "        2016-12-24  2016-12-25  2016-12-26  2016-12-27  2016-12-28  \\\n",
       "145012         2.0         4.0         2.0         4.0         4.0   \n",
       "145013         8.0         3.0         6.0         3.0         3.0   \n",
       "145014        23.0       182.0        43.0         8.0        22.0   \n",
       "145015        27.0        14.0         8.0         7.0         5.0   \n",
       "145016         1.0         0.0         1.0         0.0         0.0   \n",
       "\n",
       "        2016-12-29  2016-12-30  2016-12-31  \n",
       "145012         1.0         2.0         2.0  \n",
       "145013        10.0        11.0         3.0  \n",
       "145014        13.0        18.0        14.0  \n",
       "145015        43.0        12.0        25.0  \n",
       "145016         1.0         1.0         0.0  \n",
       "\n",
       "[5 rows x 551 columns]"
      ]
     },
     "execution_count": 12,
     "metadata": {},
     "output_type": "execute_result"
    }
   ],
   "source": [
    "# 0 indicating there is no traffic in the website\n",
    "train=train.fillna(0)\n",
    "train.tail()"
   ]
  },
  {
   "cell_type": "markdown",
   "metadata": {
    "id": "RBPoFDE7tDBZ"
   },
   "source": [
    "## Extracting Title, Language, Access_type, Access_origin from Page column"
   ]
  },
  {
   "cell_type": "code",
   "execution_count": 13,
   "metadata": {
    "colab": {
     "base_uri": "https://localhost:8080/"
    },
    "id": "--Uw8OYgsW3U",
    "outputId": "cb4b5a3b-c96d-4559-a87f-defac70f7d37"
   },
   "outputs": [
    {
     "name": "stdout",
     "output_type": "stream",
     "text": [
      "['2NE1', 'zh', 'britanica', 'org', 'all-access', 'spider']\n"
     ]
    },
    {
     "data": {
      "text/plain": [
       "('2NE1', 'zh', 'all-access', 'spider')"
      ]
     },
     "execution_count": 13,
     "metadata": {},
     "output_type": "execute_result"
    }
   ],
   "source": [
    "#Usage of Regex\n",
    "def split_page(page):\n",
    "    w = re.split('_|\\.', page)\n",
    "    print(w)\n",
    "    return ' '.join(w[:-5]), w[-5], w[-2], w[-1]\n",
    "\n",
    "split_page('2NE1_zh.britanica.org_all-access_spider')"
   ]
  },
  {
   "cell_type": "code",
   "execution_count": 14,
   "metadata": {
    "id": "z7wkuksgslMT"
   },
   "outputs": [],
   "source": [
    "def split_page(page):\n",
    "  w = re.split('_|\\.', page)\n",
    "  return ' '.join(w[:-5]), w[-5], w[-2], w[-1]\n",
    "\n",
    "li = list(train['Page'].apply(lambda x: split_page(str(x))))\n",
    "df = pd.DataFrame(li)\n",
    "df.columns = ['Title', 'Language', 'Access_type','Access_origin']\n",
    "df = pd.concat([train, df], axis = 1)"
   ]
  },
  {
   "cell_type": "code",
   "execution_count": 15,
   "metadata": {
    "colab": {
     "base_uri": "https://localhost:8080/",
     "height": 360
    },
    "id": "DCY12fCQsvzD",
    "outputId": "c4436311-043e-49ef-c72f-16b4d6c5c39a"
   },
   "outputs": [
    {
     "data": {
      "text/html": [
       "<div>\n",
       "<style scoped>\n",
       "    .dataframe tbody tr th:only-of-type {\n",
       "        vertical-align: middle;\n",
       "    }\n",
       "\n",
       "    .dataframe tbody tr th {\n",
       "        vertical-align: top;\n",
       "    }\n",
       "\n",
       "    .dataframe thead th {\n",
       "        text-align: right;\n",
       "    }\n",
       "</style>\n",
       "<table border=\"1\" class=\"dataframe\">\n",
       "  <thead>\n",
       "    <tr style=\"text-align: right;\">\n",
       "      <th></th>\n",
       "      <th>Page</th>\n",
       "      <th>2015-07-01</th>\n",
       "      <th>2015-07-02</th>\n",
       "      <th>2015-07-03</th>\n",
       "      <th>2015-07-04</th>\n",
       "      <th>2015-07-05</th>\n",
       "      <th>2015-07-06</th>\n",
       "      <th>2015-07-07</th>\n",
       "      <th>2015-07-08</th>\n",
       "      <th>2015-07-09</th>\n",
       "      <th>...</th>\n",
       "      <th>2016-12-26</th>\n",
       "      <th>2016-12-27</th>\n",
       "      <th>2016-12-28</th>\n",
       "      <th>2016-12-29</th>\n",
       "      <th>2016-12-30</th>\n",
       "      <th>2016-12-31</th>\n",
       "      <th>Title</th>\n",
       "      <th>Language</th>\n",
       "      <th>Access_type</th>\n",
       "      <th>Access_origin</th>\n",
       "    </tr>\n",
       "  </thead>\n",
       "  <tbody>\n",
       "    <tr>\n",
       "      <th>0</th>\n",
       "      <td>2NE1_zh.britanica.org_all-access_spider</td>\n",
       "      <td>18.0</td>\n",
       "      <td>11.0</td>\n",
       "      <td>5.0</td>\n",
       "      <td>13.0</td>\n",
       "      <td>14.0</td>\n",
       "      <td>9.0</td>\n",
       "      <td>9.0</td>\n",
       "      <td>22.0</td>\n",
       "      <td>26.0</td>\n",
       "      <td>...</td>\n",
       "      <td>14.0</td>\n",
       "      <td>20.0</td>\n",
       "      <td>22.0</td>\n",
       "      <td>19.0</td>\n",
       "      <td>18.0</td>\n",
       "      <td>20.0</td>\n",
       "      <td>2NE1</td>\n",
       "      <td>zh</td>\n",
       "      <td>all-access</td>\n",
       "      <td>spider</td>\n",
       "    </tr>\n",
       "    <tr>\n",
       "      <th>1</th>\n",
       "      <td>2PM_zh.britanica.org_all-access_spider</td>\n",
       "      <td>11.0</td>\n",
       "      <td>14.0</td>\n",
       "      <td>15.0</td>\n",
       "      <td>18.0</td>\n",
       "      <td>11.0</td>\n",
       "      <td>13.0</td>\n",
       "      <td>22.0</td>\n",
       "      <td>11.0</td>\n",
       "      <td>10.0</td>\n",
       "      <td>...</td>\n",
       "      <td>9.0</td>\n",
       "      <td>30.0</td>\n",
       "      <td>52.0</td>\n",
       "      <td>45.0</td>\n",
       "      <td>26.0</td>\n",
       "      <td>20.0</td>\n",
       "      <td>2PM</td>\n",
       "      <td>zh</td>\n",
       "      <td>all-access</td>\n",
       "      <td>spider</td>\n",
       "    </tr>\n",
       "    <tr>\n",
       "      <th>2</th>\n",
       "      <td>3C_zh.britanica.org_all-access_spider</td>\n",
       "      <td>1.0</td>\n",
       "      <td>0.0</td>\n",
       "      <td>1.0</td>\n",
       "      <td>1.0</td>\n",
       "      <td>0.0</td>\n",
       "      <td>4.0</td>\n",
       "      <td>0.0</td>\n",
       "      <td>3.0</td>\n",
       "      <td>4.0</td>\n",
       "      <td>...</td>\n",
       "      <td>4.0</td>\n",
       "      <td>4.0</td>\n",
       "      <td>6.0</td>\n",
       "      <td>3.0</td>\n",
       "      <td>4.0</td>\n",
       "      <td>17.0</td>\n",
       "      <td>3C</td>\n",
       "      <td>zh</td>\n",
       "      <td>all-access</td>\n",
       "      <td>spider</td>\n",
       "    </tr>\n",
       "    <tr>\n",
       "      <th>3</th>\n",
       "      <td>4minute_zh.britanica.org_all-access_spider</td>\n",
       "      <td>35.0</td>\n",
       "      <td>13.0</td>\n",
       "      <td>10.0</td>\n",
       "      <td>94.0</td>\n",
       "      <td>4.0</td>\n",
       "      <td>26.0</td>\n",
       "      <td>14.0</td>\n",
       "      <td>9.0</td>\n",
       "      <td>11.0</td>\n",
       "      <td>...</td>\n",
       "      <td>16.0</td>\n",
       "      <td>11.0</td>\n",
       "      <td>17.0</td>\n",
       "      <td>19.0</td>\n",
       "      <td>10.0</td>\n",
       "      <td>11.0</td>\n",
       "      <td>4minute</td>\n",
       "      <td>zh</td>\n",
       "      <td>all-access</td>\n",
       "      <td>spider</td>\n",
       "    </tr>\n",
       "    <tr>\n",
       "      <th>4</th>\n",
       "      <td>NaN</td>\n",
       "      <td>NaN</td>\n",
       "      <td>NaN</td>\n",
       "      <td>NaN</td>\n",
       "      <td>NaN</td>\n",
       "      <td>NaN</td>\n",
       "      <td>NaN</td>\n",
       "      <td>NaN</td>\n",
       "      <td>NaN</td>\n",
       "      <td>NaN</td>\n",
       "      <td>...</td>\n",
       "      <td>NaN</td>\n",
       "      <td>NaN</td>\n",
       "      <td>NaN</td>\n",
       "      <td>NaN</td>\n",
       "      <td>NaN</td>\n",
       "      <td>NaN</td>\n",
       "      <td>5566</td>\n",
       "      <td>zh</td>\n",
       "      <td>all-access</td>\n",
       "      <td>spider</td>\n",
       "    </tr>\n",
       "  </tbody>\n",
       "</table>\n",
       "<p>5 rows × 555 columns</p>\n",
       "</div>"
      ],
      "text/plain": [
       "                                         Page  2015-07-01  2015-07-02  \\\n",
       "0     2NE1_zh.britanica.org_all-access_spider        18.0        11.0   \n",
       "1      2PM_zh.britanica.org_all-access_spider        11.0        14.0   \n",
       "2       3C_zh.britanica.org_all-access_spider         1.0         0.0   \n",
       "3  4minute_zh.britanica.org_all-access_spider        35.0        13.0   \n",
       "4                                         NaN         NaN         NaN   \n",
       "\n",
       "   2015-07-03  2015-07-04  2015-07-05  2015-07-06  2015-07-07  2015-07-08  \\\n",
       "0         5.0        13.0        14.0         9.0         9.0        22.0   \n",
       "1        15.0        18.0        11.0        13.0        22.0        11.0   \n",
       "2         1.0         1.0         0.0         4.0         0.0         3.0   \n",
       "3        10.0        94.0         4.0        26.0        14.0         9.0   \n",
       "4         NaN         NaN         NaN         NaN         NaN         NaN   \n",
       "\n",
       "   2015-07-09  ...  2016-12-26  2016-12-27  2016-12-28  2016-12-29  \\\n",
       "0        26.0  ...        14.0        20.0        22.0        19.0   \n",
       "1        10.0  ...         9.0        30.0        52.0        45.0   \n",
       "2         4.0  ...         4.0         4.0         6.0         3.0   \n",
       "3        11.0  ...        16.0        11.0        17.0        19.0   \n",
       "4         NaN  ...         NaN         NaN         NaN         NaN   \n",
       "\n",
       "   2016-12-30  2016-12-31    Title  Language  Access_type  Access_origin  \n",
       "0        18.0        20.0     2NE1        zh   all-access         spider  \n",
       "1        26.0        20.0      2PM        zh   all-access         spider  \n",
       "2         4.0        17.0       3C        zh   all-access         spider  \n",
       "3        10.0        11.0  4minute        zh   all-access         spider  \n",
       "4         NaN         NaN     5566        zh   all-access         spider  \n",
       "\n",
       "[5 rows x 555 columns]"
      ]
     },
     "execution_count": 15,
     "metadata": {},
     "output_type": "execute_result"
    }
   ],
   "source": [
    "df.head()"
   ]
  },
  {
   "cell_type": "code",
   "execution_count": 16,
   "metadata": {
    "colab": {
     "base_uri": "https://localhost:8080/",
     "height": 467
    },
    "id": "6wRDi--ls6mr",
    "outputId": "a8ed27e1-63f4-4996-8123-fa6565aee2eb"
   },
   "outputs": [
    {
     "data": {
      "text/plain": [
       "<AxesSubplot:xlabel='Language', ylabel='count'>"
      ]
     },
     "execution_count": 16,
     "metadata": {},
     "output_type": "execute_result"
    },
    {
     "data": {
      "image/png": "[encoded data removed]",
      "text/plain": [
       "<Figure size 432x288 with 1 Axes>"
      ]
     },
     "metadata": {
      "needs_background": "light"
     },
     "output_type": "display_data"
    }
   ],
   "source": [
    "sns.countplot(df['Language'])"
   ]
  },
  {
   "cell_type": "markdown",
   "metadata": {
    "id": "dtrqoceLtXYc"
   },
   "source": [
    "**ANALYSIS** <br>\n",
    "{'ja':'Japanese', 'de':'German', 'en' : 'English', 'no_lang':'Media_File', 'fr':'French', 'zh':'Chinese', 'ru':'Russian', 'es':'Spanish'}\n",
    "\n",
    "- English has the highest count followed by Japanese, German , French and so on"
   ]
  },
  {
   "cell_type": "code",
   "execution_count": 17,
   "metadata": {
    "colab": {
     "base_uri": "https://localhost:8080/",
     "height": 467
    },
    "id": "mmBk4xfxtTqL",
    "outputId": "5d2933ab-b2f5-4a86-f5cd-91b00171c754"
   },
   "outputs": [
    {
     "data": {
      "text/plain": [
       "<AxesSubplot:xlabel='Access_type', ylabel='count'>"
      ]
     },
     "execution_count": 17,
     "metadata": {},
     "output_type": "execute_result"
    },
    {
     "data": {
      "image/png": "[encoded data removed]",
      "text/plain": [
       "<Figure size 432x288 with 1 Axes>"
      ]
     },
     "metadata": {
      "needs_background": "light"
     },
     "output_type": "display_data"
    }
   ],
   "source": [
    "sns.countplot(df['Access_type'])"
   ]
  },
  {
   "cell_type": "markdown",
   "metadata": {
    "id": "u796C5G_uLyB"
   },
   "source": [
    "**ANALYSIS** <br>\n",
    "\n",
    "- All-access has the highest count followed by mobile-web and desktop"
   ]
  },
  {
   "cell_type": "code",
   "execution_count": 18,
   "metadata": {
    "colab": {
     "base_uri": "https://localhost:8080/",
     "height": 467
    },
    "id": "VN72ISUjuJyT",
    "outputId": "35ab0ac8-2b05-441b-823c-5530640c88bf"
   },
   "outputs": [
    {
     "data": {
      "text/plain": [
       "<AxesSubplot:xlabel='Access_origin', ylabel='count'>"
      ]
     },
     "execution_count": 18,
     "metadata": {},
     "output_type": "execute_result"
    },
    {
     "data": {
      "image/png": "[encoded data removed]",
      "text/plain": [
       "<Figure size 432x288 with 1 Axes>"
      ]
     },
     "metadata": {
      "needs_background": "light"
     },
     "output_type": "display_data"
    }
   ],
   "source": [
    "sns.countplot(df['Access_origin'])"
   ]
  },
  {
   "cell_type": "markdown",
   "metadata": {
    "id": "7K8EMji3uL3-"
   },
   "source": [
    "**ANALYSIS** <br>\n",
    "\n",
    "- All-agents has the highest count i.e organic view is far more than that of spiders or bots"
   ]
  },
  {
   "cell_type": "code",
   "execution_count": 19,
   "metadata": {
    "colab": {
     "base_uri": "https://localhost:8080/",
     "height": 429
    },
    "id": "NvxaqGt-ubvr",
    "outputId": "1b5bdccf-c4e0-4b9d-f3a1-e61fea4d08dd"
   },
   "outputs": [
    {
     "data": {
      "text/html": [
       "<div>\n",
       "<style scoped>\n",
       "    .dataframe tbody tr th:only-of-type {\n",
       "        vertical-align: middle;\n",
       "    }\n",
       "\n",
       "    .dataframe tbody tr th {\n",
       "        vertical-align: top;\n",
       "    }\n",
       "\n",
       "    .dataframe thead th {\n",
       "        text-align: right;\n",
       "    }\n",
       "</style>\n",
       "<table border=\"1\" class=\"dataframe\">\n",
       "  <thead>\n",
       "    <tr style=\"text-align: right;\">\n",
       "      <th></th>\n",
       "      <th>Page</th>\n",
       "      <th>2015-07-01</th>\n",
       "      <th>2015-07-02</th>\n",
       "      <th>2015-07-03</th>\n",
       "      <th>2015-07-04</th>\n",
       "      <th>2015-07-05</th>\n",
       "      <th>2015-07-06</th>\n",
       "      <th>2015-07-07</th>\n",
       "      <th>2015-07-08</th>\n",
       "      <th>2015-07-09</th>\n",
       "      <th>...</th>\n",
       "      <th>2016-12-25</th>\n",
       "      <th>2016-12-26</th>\n",
       "      <th>2016-12-27</th>\n",
       "      <th>2016-12-28</th>\n",
       "      <th>2016-12-29</th>\n",
       "      <th>2016-12-30</th>\n",
       "      <th>2016-12-31</th>\n",
       "      <th>Title</th>\n",
       "      <th>Access_type</th>\n",
       "      <th>Access_origin</th>\n",
       "    </tr>\n",
       "    <tr>\n",
       "      <th>Language</th>\n",
       "      <th></th>\n",
       "      <th></th>\n",
       "      <th></th>\n",
       "      <th></th>\n",
       "      <th></th>\n",
       "      <th></th>\n",
       "      <th></th>\n",
       "      <th></th>\n",
       "      <th></th>\n",
       "      <th></th>\n",
       "      <th></th>\n",
       "      <th></th>\n",
       "      <th></th>\n",
       "      <th></th>\n",
       "      <th></th>\n",
       "      <th></th>\n",
       "      <th></th>\n",
       "      <th></th>\n",
       "      <th></th>\n",
       "      <th></th>\n",
       "      <th></th>\n",
       "    </tr>\n",
       "  </thead>\n",
       "  <tbody>\n",
       "    <tr>\n",
       "      <th>commons</th>\n",
       "      <td>7672</td>\n",
       "      <td>7672</td>\n",
       "      <td>7672</td>\n",
       "      <td>7672</td>\n",
       "      <td>7672</td>\n",
       "      <td>7672</td>\n",
       "      <td>7672</td>\n",
       "      <td>7672</td>\n",
       "      <td>7672</td>\n",
       "      <td>7672</td>\n",
       "      <td>...</td>\n",
       "      <td>7672</td>\n",
       "      <td>7672</td>\n",
       "      <td>7672</td>\n",
       "      <td>7672</td>\n",
       "      <td>7672</td>\n",
       "      <td>7672</td>\n",
       "      <td>7672</td>\n",
       "      <td>8266</td>\n",
       "      <td>8266</td>\n",
       "      <td>8266</td>\n",
       "    </tr>\n",
       "    <tr>\n",
       "      <th>de</th>\n",
       "      <td>15946</td>\n",
       "      <td>15946</td>\n",
       "      <td>15946</td>\n",
       "      <td>15946</td>\n",
       "      <td>15946</td>\n",
       "      <td>15946</td>\n",
       "      <td>15946</td>\n",
       "      <td>15946</td>\n",
       "      <td>15946</td>\n",
       "      <td>15946</td>\n",
       "      <td>...</td>\n",
       "      <td>15946</td>\n",
       "      <td>15946</td>\n",
       "      <td>15946</td>\n",
       "      <td>15946</td>\n",
       "      <td>15946</td>\n",
       "      <td>15946</td>\n",
       "      <td>15946</td>\n",
       "      <td>17362</td>\n",
       "      <td>17362</td>\n",
       "      <td>17362</td>\n",
       "    </tr>\n",
       "    <tr>\n",
       "      <th>en</th>\n",
       "      <td>20758</td>\n",
       "      <td>20758</td>\n",
       "      <td>20758</td>\n",
       "      <td>20758</td>\n",
       "      <td>20758</td>\n",
       "      <td>20758</td>\n",
       "      <td>20758</td>\n",
       "      <td>20758</td>\n",
       "      <td>20758</td>\n",
       "      <td>20758</td>\n",
       "      <td>...</td>\n",
       "      <td>20758</td>\n",
       "      <td>20758</td>\n",
       "      <td>20758</td>\n",
       "      <td>20758</td>\n",
       "      <td>20758</td>\n",
       "      <td>20758</td>\n",
       "      <td>20758</td>\n",
       "      <td>22486</td>\n",
       "      <td>22486</td>\n",
       "      <td>22486</td>\n",
       "    </tr>\n",
       "    <tr>\n",
       "      <th>es</th>\n",
       "      <td>12268</td>\n",
       "      <td>12268</td>\n",
       "      <td>12268</td>\n",
       "      <td>12268</td>\n",
       "      <td>12268</td>\n",
       "      <td>12268</td>\n",
       "      <td>12268</td>\n",
       "      <td>12268</td>\n",
       "      <td>12268</td>\n",
       "      <td>12268</td>\n",
       "      <td>...</td>\n",
       "      <td>12268</td>\n",
       "      <td>12268</td>\n",
       "      <td>12268</td>\n",
       "      <td>12268</td>\n",
       "      <td>12268</td>\n",
       "      <td>12268</td>\n",
       "      <td>12268</td>\n",
       "      <td>13551</td>\n",
       "      <td>13551</td>\n",
       "      <td>13551</td>\n",
       "    </tr>\n",
       "    <tr>\n",
       "      <th>fr</th>\n",
       "      <td>15418</td>\n",
       "      <td>15418</td>\n",
       "      <td>15418</td>\n",
       "      <td>15418</td>\n",
       "      <td>15418</td>\n",
       "      <td>15418</td>\n",
       "      <td>15418</td>\n",
       "      <td>15418</td>\n",
       "      <td>15418</td>\n",
       "      <td>15418</td>\n",
       "      <td>...</td>\n",
       "      <td>15418</td>\n",
       "      <td>15418</td>\n",
       "      <td>15418</td>\n",
       "      <td>15418</td>\n",
       "      <td>15418</td>\n",
       "      <td>15418</td>\n",
       "      <td>15418</td>\n",
       "      <td>16948</td>\n",
       "      <td>16948</td>\n",
       "      <td>16948</td>\n",
       "    </tr>\n",
       "    <tr>\n",
       "      <th>ja</th>\n",
       "      <td>17132</td>\n",
       "      <td>17132</td>\n",
       "      <td>17132</td>\n",
       "      <td>17132</td>\n",
       "      <td>17132</td>\n",
       "      <td>17132</td>\n",
       "      <td>17132</td>\n",
       "      <td>17132</td>\n",
       "      <td>17132</td>\n",
       "      <td>17132</td>\n",
       "      <td>...</td>\n",
       "      <td>17132</td>\n",
       "      <td>17132</td>\n",
       "      <td>17132</td>\n",
       "      <td>17132</td>\n",
       "      <td>17132</td>\n",
       "      <td>17132</td>\n",
       "      <td>17132</td>\n",
       "      <td>19295</td>\n",
       "      <td>19295</td>\n",
       "      <td>19295</td>\n",
       "    </tr>\n",
       "    <tr>\n",
       "      <th>ru</th>\n",
       "      <td>12955</td>\n",
       "      <td>12955</td>\n",
       "      <td>12955</td>\n",
       "      <td>12955</td>\n",
       "      <td>12955</td>\n",
       "      <td>12955</td>\n",
       "      <td>12955</td>\n",
       "      <td>12955</td>\n",
       "      <td>12955</td>\n",
       "      <td>12955</td>\n",
       "      <td>...</td>\n",
       "      <td>12955</td>\n",
       "      <td>12955</td>\n",
       "      <td>12955</td>\n",
       "      <td>12955</td>\n",
       "      <td>12955</td>\n",
       "      <td>12955</td>\n",
       "      <td>12955</td>\n",
       "      <td>14270</td>\n",
       "      <td>14270</td>\n",
       "      <td>14270</td>\n",
       "    </tr>\n",
       "    <tr>\n",
       "      <th>www</th>\n",
       "      <td>5743</td>\n",
       "      <td>5743</td>\n",
       "      <td>5743</td>\n",
       "      <td>5743</td>\n",
       "      <td>5743</td>\n",
       "      <td>5743</td>\n",
       "      <td>5743</td>\n",
       "      <td>5743</td>\n",
       "      <td>5743</td>\n",
       "      <td>5743</td>\n",
       "      <td>...</td>\n",
       "      <td>5743</td>\n",
       "      <td>5743</td>\n",
       "      <td>5743</td>\n",
       "      <td>5743</td>\n",
       "      <td>5743</td>\n",
       "      <td>5743</td>\n",
       "      <td>5743</td>\n",
       "      <td>6228</td>\n",
       "      <td>6228</td>\n",
       "      <td>6228</td>\n",
       "    </tr>\n",
       "    <tr>\n",
       "      <th>zh</th>\n",
       "      <td>14845</td>\n",
       "      <td>14845</td>\n",
       "      <td>14845</td>\n",
       "      <td>14845</td>\n",
       "      <td>14845</td>\n",
       "      <td>14845</td>\n",
       "      <td>14845</td>\n",
       "      <td>14845</td>\n",
       "      <td>14845</td>\n",
       "      <td>14845</td>\n",
       "      <td>...</td>\n",
       "      <td>14845</td>\n",
       "      <td>14845</td>\n",
       "      <td>14845</td>\n",
       "      <td>14845</td>\n",
       "      <td>14845</td>\n",
       "      <td>14845</td>\n",
       "      <td>14845</td>\n",
       "      <td>15211</td>\n",
       "      <td>15211</td>\n",
       "      <td>15211</td>\n",
       "    </tr>\n",
       "  </tbody>\n",
       "</table>\n",
       "<p>9 rows × 554 columns</p>\n",
       "</div>"
      ],
      "text/plain": [
       "           Page  2015-07-01  2015-07-02  2015-07-03  2015-07-04  2015-07-05  \\\n",
       "Language                                                                      \n",
       "commons    7672        7672        7672        7672        7672        7672   \n",
       "de        15946       15946       15946       15946       15946       15946   \n",
       "en        20758       20758       20758       20758       20758       20758   \n",
       "es        12268       12268       12268       12268       12268       12268   \n",
       "fr        15418       15418       15418       15418       15418       15418   \n",
       "ja        17132       17132       17132       17132       17132       17132   \n",
       "ru        12955       12955       12955       12955       12955       12955   \n",
       "www        5743        5743        5743        5743        5743        5743   \n",
       "zh        14845       14845       14845       14845       14845       14845   \n",
       "\n",
       "          2015-07-06  2015-07-07  2015-07-08  2015-07-09  ...  2016-12-25  \\\n",
       "Language                                                  ...               \n",
       "commons         7672        7672        7672        7672  ...        7672   \n",
       "de             15946       15946       15946       15946  ...       15946   \n",
       "en             20758       20758       20758       20758  ...       20758   \n",
       "es             12268       12268       12268       12268  ...       12268   \n",
       "fr             15418       15418       15418       15418  ...       15418   \n",
       "ja             17132       17132       17132       17132  ...       17132   \n",
       "ru             12955       12955       12955       12955  ...       12955   \n",
       "www             5743        5743        5743        5743  ...        5743   \n",
       "zh             14845       14845       14845       14845  ...       14845   \n",
       "\n",
       "          2016-12-26  2016-12-27  2016-12-28  2016-12-29  2016-12-30  \\\n",
       "Language                                                               \n",
       "commons         7672        7672        7672        7672        7672   \n",
       "de             15946       15946       15946       15946       15946   \n",
       "en             20758       20758       20758       20758       20758   \n",
       "es             12268       12268       12268       12268       12268   \n",
       "fr             15418       15418       15418       15418       15418   \n",
       "ja             17132       17132       17132       17132       17132   \n",
       "ru             12955       12955       12955       12955       12955   \n",
       "www             5743        5743        5743        5743        5743   \n",
       "zh             14845       14845       14845       14845       14845   \n",
       "\n",
       "          2016-12-31  Title  Access_type  Access_origin  \n",
       "Language                                                 \n",
       "commons         7672   8266         8266           8266  \n",
       "de             15946  17362        17362          17362  \n",
       "en             20758  22486        22486          22486  \n",
       "es             12268  13551        13551          13551  \n",
       "fr             15418  16948        16948          16948  \n",
       "ja             17132  19295        19295          19295  \n",
       "ru             12955  14270        14270          14270  \n",
       "www             5743   6228         6228           6228  \n",
       "zh             14845  15211        15211          15211  \n",
       "\n",
       "[9 rows x 554 columns]"
      ]
     },
     "execution_count": 19,
     "metadata": {},
     "output_type": "execute_result"
    }
   ],
   "source": [
    "#here we see that the languages are not treated properly as there are commons and www\n",
    "df.groupby('Language').count()"
   ]
  },
  {
   "cell_type": "code",
   "execution_count": 20,
   "metadata": {
    "colab": {
     "base_uri": "https://localhost:8080/",
     "height": 617
    },
    "id": "K5W99052uxHz",
    "outputId": "b77a52a3-3121-403e-e283-8160d349fd39"
   },
   "outputs": [
    {
     "data": {
      "text/html": [
       "<div>\n",
       "<style scoped>\n",
       "    .dataframe tbody tr th:only-of-type {\n",
       "        vertical-align: middle;\n",
       "    }\n",
       "\n",
       "    .dataframe tbody tr th {\n",
       "        vertical-align: top;\n",
       "    }\n",
       "\n",
       "    .dataframe thead th {\n",
       "        text-align: right;\n",
       "    }\n",
       "</style>\n",
       "<table border=\"1\" class=\"dataframe\">\n",
       "  <thead>\n",
       "    <tr style=\"text-align: right;\">\n",
       "      <th></th>\n",
       "      <th>Page</th>\n",
       "      <th>2015-07-01</th>\n",
       "      <th>2015-07-02</th>\n",
       "      <th>2015-07-03</th>\n",
       "      <th>2015-07-04</th>\n",
       "      <th>2015-07-05</th>\n",
       "      <th>2015-07-06</th>\n",
       "      <th>2015-07-07</th>\n",
       "      <th>2015-07-08</th>\n",
       "      <th>2015-07-09</th>\n",
       "      <th>...</th>\n",
       "      <th>2016-12-26</th>\n",
       "      <th>2016-12-27</th>\n",
       "      <th>2016-12-28</th>\n",
       "      <th>2016-12-29</th>\n",
       "      <th>2016-12-30</th>\n",
       "      <th>2016-12-31</th>\n",
       "      <th>Title</th>\n",
       "      <th>Language</th>\n",
       "      <th>Access_type</th>\n",
       "      <th>Access_origin</th>\n",
       "    </tr>\n",
       "  </thead>\n",
       "  <tbody>\n",
       "    <tr>\n",
       "      <th>12271</th>\n",
       "      <td>Burning_Man_en.britanica.org_desktop_all-agents</td>\n",
       "      <td>1693.0</td>\n",
       "      <td>1490.0</td>\n",
       "      <td>1186.0</td>\n",
       "      <td>1099.0</td>\n",
       "      <td>1051.0</td>\n",
       "      <td>1968.0</td>\n",
       "      <td>1874.0</td>\n",
       "      <td>1637.0</td>\n",
       "      <td>1842.0</td>\n",
       "      <td>...</td>\n",
       "      <td>940.0</td>\n",
       "      <td>2976.0</td>\n",
       "      <td>2447.0</td>\n",
       "      <td>1648.0</td>\n",
       "      <td>1282.0</td>\n",
       "      <td>956.0</td>\n",
       "      <td>Accueil</td>\n",
       "      <td>commons</td>\n",
       "      <td>all-access</td>\n",
       "      <td>spider</td>\n",
       "    </tr>\n",
       "    <tr>\n",
       "      <th>12272</th>\n",
       "      <td>Cali_Cartel_en.britanica.org_desktop_all-agents</td>\n",
       "      <td>348.0</td>\n",
       "      <td>363.0</td>\n",
       "      <td>214.0</td>\n",
       "      <td>252.0</td>\n",
       "      <td>257.0</td>\n",
       "      <td>320.0</td>\n",
       "      <td>340.0</td>\n",
       "      <td>345.0</td>\n",
       "      <td>432.0</td>\n",
       "      <td>...</td>\n",
       "      <td>1197.0</td>\n",
       "      <td>1449.0</td>\n",
       "      <td>1376.0</td>\n",
       "      <td>1350.0</td>\n",
       "      <td>1287.0</td>\n",
       "      <td>992.0</td>\n",
       "      <td>Atlas of Asia</td>\n",
       "      <td>commons</td>\n",
       "      <td>all-access</td>\n",
       "      <td>spider</td>\n",
       "    </tr>\n",
       "    <tr>\n",
       "      <th>12273</th>\n",
       "      <td>Call_of_Duty:_Modern_Warfare_2_en.britanica.or...</td>\n",
       "      <td>806.0</td>\n",
       "      <td>768.0</td>\n",
       "      <td>700.0</td>\n",
       "      <td>725.0</td>\n",
       "      <td>723.0</td>\n",
       "      <td>823.0</td>\n",
       "      <td>849.0</td>\n",
       "      <td>731.0</td>\n",
       "      <td>833.0</td>\n",
       "      <td>...</td>\n",
       "      <td>818.0</td>\n",
       "      <td>929.0</td>\n",
       "      <td>892.0</td>\n",
       "      <td>878.0</td>\n",
       "      <td>893.0</td>\n",
       "      <td>712.0</td>\n",
       "      <td>Atlas of Europe</td>\n",
       "      <td>commons</td>\n",
       "      <td>all-access</td>\n",
       "      <td>spider</td>\n",
       "    </tr>\n",
       "    <tr>\n",
       "      <th>12274</th>\n",
       "      <td>Calvin_Harris_en.britanica.org_desktop_all-agents</td>\n",
       "      <td>7114.0</td>\n",
       "      <td>5599.0</td>\n",
       "      <td>7685.0</td>\n",
       "      <td>15844.0</td>\n",
       "      <td>9390.0</td>\n",
       "      <td>7173.0</td>\n",
       "      <td>5499.0</td>\n",
       "      <td>6367.0</td>\n",
       "      <td>5630.0</td>\n",
       "      <td>...</td>\n",
       "      <td>1242.0</td>\n",
       "      <td>1409.0</td>\n",
       "      <td>1714.0</td>\n",
       "      <td>1604.0</td>\n",
       "      <td>1602.0</td>\n",
       "      <td>1300.0</td>\n",
       "      <td>Atlas of World War II</td>\n",
       "      <td>commons</td>\n",
       "      <td>all-access</td>\n",
       "      <td>spider</td>\n",
       "    </tr>\n",
       "    <tr>\n",
       "      <th>12275</th>\n",
       "      <td>Carl_Sagan_en.britanica.org_desktop_all-agents</td>\n",
       "      <td>1808.0</td>\n",
       "      <td>1759.0</td>\n",
       "      <td>1838.0</td>\n",
       "      <td>1631.0</td>\n",
       "      <td>1701.0</td>\n",
       "      <td>2230.0</td>\n",
       "      <td>2052.0</td>\n",
       "      <td>2065.0</td>\n",
       "      <td>2002.0</td>\n",
       "      <td>...</td>\n",
       "      <td>1425.0</td>\n",
       "      <td>1730.0</td>\n",
       "      <td>1858.0</td>\n",
       "      <td>1781.0</td>\n",
       "      <td>1718.0</td>\n",
       "      <td>1345.0</td>\n",
       "      <td>Atlas of colonialism</td>\n",
       "      <td>commons</td>\n",
       "      <td>all-access</td>\n",
       "      <td>spider</td>\n",
       "    </tr>\n",
       "    <tr>\n",
       "      <th>...</th>\n",
       "      <td>...</td>\n",
       "      <td>...</td>\n",
       "      <td>...</td>\n",
       "      <td>...</td>\n",
       "      <td>...</td>\n",
       "      <td>...</td>\n",
       "      <td>...</td>\n",
       "      <td>...</td>\n",
       "      <td>...</td>\n",
       "      <td>...</td>\n",
       "      <td>...</td>\n",
       "      <td>...</td>\n",
       "      <td>...</td>\n",
       "      <td>...</td>\n",
       "      <td>...</td>\n",
       "      <td>...</td>\n",
       "      <td>...</td>\n",
       "      <td>...</td>\n",
       "      <td>...</td>\n",
       "      <td>...</td>\n",
       "      <td>...</td>\n",
       "    </tr>\n",
       "    <tr>\n",
       "      <th>75274</th>\n",
       "      <td>Ash_Wednesday_en.britanica.org_mobile-web_all-...</td>\n",
       "      <td>170.0</td>\n",
       "      <td>169.0</td>\n",
       "      <td>165.0</td>\n",
       "      <td>166.0</td>\n",
       "      <td>186.0</td>\n",
       "      <td>154.0</td>\n",
       "      <td>154.0</td>\n",
       "      <td>184.0</td>\n",
       "      <td>173.0</td>\n",
       "      <td>...</td>\n",
       "      <td>475.0</td>\n",
       "      <td>444.0</td>\n",
       "      <td>389.0</td>\n",
       "      <td>382.0</td>\n",
       "      <td>362.0</td>\n",
       "      <td>393.0</td>\n",
       "      <td>File:El jardín de las Delicias, de El Bosco jpg</td>\n",
       "      <td>commons</td>\n",
       "      <td>desktop</td>\n",
       "      <td>all-agents</td>\n",
       "    </tr>\n",
       "    <tr>\n",
       "      <th>75275</th>\n",
       "      <td>Ashley_Williams_(footballer)_en.britanica.org_...</td>\n",
       "      <td>112.0</td>\n",
       "      <td>102.0</td>\n",
       "      <td>135.0</td>\n",
       "      <td>147.0</td>\n",
       "      <td>120.0</td>\n",
       "      <td>89.0</td>\n",
       "      <td>90.0</td>\n",
       "      <td>109.0</td>\n",
       "      <td>215.0</td>\n",
       "      <td>...</td>\n",
       "      <td>348.0</td>\n",
       "      <td>439.0</td>\n",
       "      <td>357.0</td>\n",
       "      <td>267.0</td>\n",
       "      <td>639.0</td>\n",
       "      <td>429.0</td>\n",
       "      <td>File:Jää on kulmunud pallideks (Looduse veidru...</td>\n",
       "      <td>commons</td>\n",
       "      <td>desktop</td>\n",
       "      <td>all-agents</td>\n",
       "    </tr>\n",
       "    <tr>\n",
       "      <th>75276</th>\n",
       "      <td>Assassin's_Creed_(film)_en.britanica.org_mobil...</td>\n",
       "      <td>28.0</td>\n",
       "      <td>15.0</td>\n",
       "      <td>24.0</td>\n",
       "      <td>24.0</td>\n",
       "      <td>27.0</td>\n",
       "      <td>34.0</td>\n",
       "      <td>36.0</td>\n",
       "      <td>35.0</td>\n",
       "      <td>22.0</td>\n",
       "      <td>...</td>\n",
       "      <td>43471.0</td>\n",
       "      <td>41147.0</td>\n",
       "      <td>38978.0</td>\n",
       "      <td>36517.0</td>\n",
       "      <td>41760.0</td>\n",
       "      <td>38116.0</td>\n",
       "      <td>File:Reichstagsgebäude mit Weihnachtsbaum bei ...</td>\n",
       "      <td>commons</td>\n",
       "      <td>desktop</td>\n",
       "      <td>all-agents</td>\n",
       "    </tr>\n",
       "    <tr>\n",
       "      <th>75277</th>\n",
       "      <td>Aubrey_Plaza_en.britanica.org_mobile-web_all-a...</td>\n",
       "      <td>3067.0</td>\n",
       "      <td>2952.0</td>\n",
       "      <td>3459.0</td>\n",
       "      <td>3310.0</td>\n",
       "      <td>3294.0</td>\n",
       "      <td>3885.0</td>\n",
       "      <td>3830.0</td>\n",
       "      <td>3325.0</td>\n",
       "      <td>3150.0</td>\n",
       "      <td>...</td>\n",
       "      <td>4004.0</td>\n",
       "      <td>4848.0</td>\n",
       "      <td>5125.0</td>\n",
       "      <td>4907.0</td>\n",
       "      <td>4617.0</td>\n",
       "      <td>4415.0</td>\n",
       "      <td>Category:Images by Eugène Cattin</td>\n",
       "      <td>commons</td>\n",
       "      <td>desktop</td>\n",
       "      <td>all-agents</td>\n",
       "    </tr>\n",
       "    <tr>\n",
       "      <th>75278</th>\n",
       "      <td>Australia_Plus_en.britanica.org_mobile-web_all...</td>\n",
       "      <td>17.0</td>\n",
       "      <td>11.0</td>\n",
       "      <td>14.0</td>\n",
       "      <td>6.0</td>\n",
       "      <td>10.0</td>\n",
       "      <td>8.0</td>\n",
       "      <td>18.0</td>\n",
       "      <td>10.0</td>\n",
       "      <td>6.0</td>\n",
       "      <td>...</td>\n",
       "      <td>12.0</td>\n",
       "      <td>17.0</td>\n",
       "      <td>18.0</td>\n",
       "      <td>13.0</td>\n",
       "      <td>6.0</td>\n",
       "      <td>19.0</td>\n",
       "      <td>File:Nikolaos Gyzis - Ηistoria jpg</td>\n",
       "      <td>commons</td>\n",
       "      <td>desktop</td>\n",
       "      <td>all-agents</td>\n",
       "    </tr>\n",
       "  </tbody>\n",
       "</table>\n",
       "<p>8266 rows × 555 columns</p>\n",
       "</div>"
      ],
      "text/plain": [
       "                                                    Page  2015-07-01  \\\n",
       "12271    Burning_Man_en.britanica.org_desktop_all-agents      1693.0   \n",
       "12272    Cali_Cartel_en.britanica.org_desktop_all-agents       348.0   \n",
       "12273  Call_of_Duty:_Modern_Warfare_2_en.britanica.or...       806.0   \n",
       "12274  Calvin_Harris_en.britanica.org_desktop_all-agents      7114.0   \n",
       "12275     Carl_Sagan_en.britanica.org_desktop_all-agents      1808.0   \n",
       "...                                                  ...         ...   \n",
       "75274  Ash_Wednesday_en.britanica.org_mobile-web_all-...       170.0   \n",
       "75275  Ashley_Williams_(footballer)_en.britanica.org_...       112.0   \n",
       "75276  Assassin's_Creed_(film)_en.britanica.org_mobil...        28.0   \n",
       "75277  Aubrey_Plaza_en.britanica.org_mobile-web_all-a...      3067.0   \n",
       "75278  Australia_Plus_en.britanica.org_mobile-web_all...        17.0   \n",
       "\n",
       "       2015-07-02  2015-07-03  2015-07-04  2015-07-05  2015-07-06  2015-07-07  \\\n",
       "12271      1490.0      1186.0      1099.0      1051.0      1968.0      1874.0   \n",
       "12272       363.0       214.0       252.0       257.0       320.0       340.0   \n",
       "12273       768.0       700.0       725.0       723.0       823.0       849.0   \n",
       "12274      5599.0      7685.0     15844.0      9390.0      7173.0      5499.0   \n",
       "12275      1759.0      1838.0      1631.0      1701.0      2230.0      2052.0   \n",
       "...           ...         ...         ...         ...         ...         ...   \n",
       "75274       169.0       165.0       166.0       186.0       154.0       154.0   \n",
       "75275       102.0       135.0       147.0       120.0        89.0        90.0   \n",
       "75276        15.0        24.0        24.0        27.0        34.0        36.0   \n",
       "75277      2952.0      3459.0      3310.0      3294.0      3885.0      3830.0   \n",
       "75278        11.0        14.0         6.0        10.0         8.0        18.0   \n",
       "\n",
       "       2015-07-08  2015-07-09  ...  2016-12-26  2016-12-27  2016-12-28  \\\n",
       "12271      1637.0      1842.0  ...       940.0      2976.0      2447.0   \n",
       "12272       345.0       432.0  ...      1197.0      1449.0      1376.0   \n",
       "12273       731.0       833.0  ...       818.0       929.0       892.0   \n",
       "12274      6367.0      5630.0  ...      1242.0      1409.0      1714.0   \n",
       "12275      2065.0      2002.0  ...      1425.0      1730.0      1858.0   \n",
       "...           ...         ...  ...         ...         ...         ...   \n",
       "75274       184.0       173.0  ...       475.0       444.0       389.0   \n",
       "75275       109.0       215.0  ...       348.0       439.0       357.0   \n",
       "75276        35.0        22.0  ...     43471.0     41147.0     38978.0   \n",
       "75277      3325.0      3150.0  ...      4004.0      4848.0      5125.0   \n",
       "75278        10.0         6.0  ...        12.0        17.0        18.0   \n",
       "\n",
       "       2016-12-29  2016-12-30  2016-12-31  \\\n",
       "12271      1648.0      1282.0       956.0   \n",
       "12272      1350.0      1287.0       992.0   \n",
       "12273       878.0       893.0       712.0   \n",
       "12274      1604.0      1602.0      1300.0   \n",
       "12275      1781.0      1718.0      1345.0   \n",
       "...           ...         ...         ...   \n",
       "75274       382.0       362.0       393.0   \n",
       "75275       267.0       639.0       429.0   \n",
       "75276     36517.0     41760.0     38116.0   \n",
       "75277      4907.0      4617.0      4415.0   \n",
       "75278        13.0         6.0        19.0   \n",
       "\n",
       "                                                   Title  Language  \\\n",
       "12271                                            Accueil   commons   \n",
       "12272                                      Atlas of Asia   commons   \n",
       "12273                                    Atlas of Europe   commons   \n",
       "12274                              Atlas of World War II   commons   \n",
       "12275                               Atlas of colonialism   commons   \n",
       "...                                                  ...       ...   \n",
       "75274    File:El jardín de las Delicias, de El Bosco jpg   commons   \n",
       "75275  File:Jää on kulmunud pallideks (Looduse veidru...   commons   \n",
       "75276  File:Reichstagsgebäude mit Weihnachtsbaum bei ...   commons   \n",
       "75277                   Category:Images by Eugène Cattin   commons   \n",
       "75278                 File:Nikolaos Gyzis - Ηistoria jpg   commons   \n",
       "\n",
       "       Access_type  Access_origin  \n",
       "12271   all-access         spider  \n",
       "12272   all-access         spider  \n",
       "12273   all-access         spider  \n",
       "12274   all-access         spider  \n",
       "12275   all-access         spider  \n",
       "...            ...            ...  \n",
       "75274      desktop     all-agents  \n",
       "75275      desktop     all-agents  \n",
       "75276      desktop     all-agents  \n",
       "75277      desktop     all-agents  \n",
       "75278      desktop     all-agents  \n",
       "\n",
       "[8266 rows x 555 columns]"
      ]
     },
     "execution_count": 20,
     "metadata": {},
     "output_type": "execute_result"
    }
   ],
   "source": [
    "df[df['Language']=='commons']"
   ]
  },
  {
   "cell_type": "code",
   "execution_count": 21,
   "metadata": {
    "id": "Dw0BL3fxw6iZ"
   },
   "outputs": [],
   "source": [
    "# Checking another way of fetching the language out of the string\n",
    "def lang(Page):\n",
    "    val = re.search('[a-z][a-z].britanica.org',Page)\n",
    "    if val:\n",
    "        #print(val)\n",
    "        #print(val[0][0:2] )\n",
    "\n",
    "        return val[0][0:2]\n",
    "\n",
    "    return 'no_lang'"
   ]
  },
  {
   "cell_type": "code",
   "execution_count": 22,
   "metadata": {
    "colab": {
     "base_uri": "https://localhost:8080/",
     "height": 36
    },
    "id": "9n1YF26yw010",
    "outputId": "6dcfb217-17d4-4ed0-c493-7a91cbdf09ef"
   },
   "outputs": [
    {
     "data": {
      "text/plain": [
       "'en'"
      ]
     },
     "execution_count": 22,
     "metadata": {},
     "output_type": "execute_result"
    }
   ],
   "source": [
    "lang('Cali_Cartel_en.britanica.org_desktop_all-agents')"
   ]
  },
  {
   "cell_type": "code",
   "execution_count": 23,
   "metadata": {
    "id": "EPHkhBhHuz_r"
   },
   "outputs": [],
   "source": [
    "\n",
    "\n",
    "df['Language']=df['Page'].apply(lambda x: lang(str(x)))"
   ]
  },
  {
   "cell_type": "code",
   "execution_count": 24,
   "metadata": {
    "colab": {
     "base_uri": "https://localhost:8080/",
     "height": 398
    },
    "id": "SaNcVpE3vA8b",
    "outputId": "a433cfe4-98d2-4f0b-fe06-25af992ad740"
   },
   "outputs": [
    {
     "data": {
      "text/html": [
       "<div>\n",
       "<style scoped>\n",
       "    .dataframe tbody tr th:only-of-type {\n",
       "        vertical-align: middle;\n",
       "    }\n",
       "\n",
       "    .dataframe tbody tr th {\n",
       "        vertical-align: top;\n",
       "    }\n",
       "\n",
       "    .dataframe thead th {\n",
       "        text-align: right;\n",
       "    }\n",
       "</style>\n",
       "<table border=\"1\" class=\"dataframe\">\n",
       "  <thead>\n",
       "    <tr style=\"text-align: right;\">\n",
       "      <th></th>\n",
       "      <th>Page</th>\n",
       "      <th>2015-07-01</th>\n",
       "      <th>2015-07-02</th>\n",
       "      <th>2015-07-03</th>\n",
       "      <th>2015-07-04</th>\n",
       "      <th>2015-07-05</th>\n",
       "      <th>2015-07-06</th>\n",
       "      <th>2015-07-07</th>\n",
       "      <th>2015-07-08</th>\n",
       "      <th>2015-07-09</th>\n",
       "      <th>...</th>\n",
       "      <th>2016-12-25</th>\n",
       "      <th>2016-12-26</th>\n",
       "      <th>2016-12-27</th>\n",
       "      <th>2016-12-28</th>\n",
       "      <th>2016-12-29</th>\n",
       "      <th>2016-12-30</th>\n",
       "      <th>2016-12-31</th>\n",
       "      <th>Title</th>\n",
       "      <th>Access_type</th>\n",
       "      <th>Access_origin</th>\n",
       "    </tr>\n",
       "    <tr>\n",
       "      <th>Language</th>\n",
       "      <th></th>\n",
       "      <th></th>\n",
       "      <th></th>\n",
       "      <th></th>\n",
       "      <th></th>\n",
       "      <th></th>\n",
       "      <th></th>\n",
       "      <th></th>\n",
       "      <th></th>\n",
       "      <th></th>\n",
       "      <th></th>\n",
       "      <th></th>\n",
       "      <th></th>\n",
       "      <th></th>\n",
       "      <th></th>\n",
       "      <th></th>\n",
       "      <th></th>\n",
       "      <th></th>\n",
       "      <th></th>\n",
       "      <th></th>\n",
       "      <th></th>\n",
       "    </tr>\n",
       "  </thead>\n",
       "  <tbody>\n",
       "    <tr>\n",
       "      <th>de</th>\n",
       "      <td>17362</td>\n",
       "      <td>17362</td>\n",
       "      <td>17362</td>\n",
       "      <td>17362</td>\n",
       "      <td>17362</td>\n",
       "      <td>17362</td>\n",
       "      <td>17362</td>\n",
       "      <td>17362</td>\n",
       "      <td>17362</td>\n",
       "      <td>17362</td>\n",
       "      <td>...</td>\n",
       "      <td>17362</td>\n",
       "      <td>17362</td>\n",
       "      <td>17362</td>\n",
       "      <td>17362</td>\n",
       "      <td>17362</td>\n",
       "      <td>17362</td>\n",
       "      <td>17362</td>\n",
       "      <td>13046</td>\n",
       "      <td>13046</td>\n",
       "      <td>13046</td>\n",
       "    </tr>\n",
       "    <tr>\n",
       "      <th>en</th>\n",
       "      <td>22486</td>\n",
       "      <td>22486</td>\n",
       "      <td>22486</td>\n",
       "      <td>22486</td>\n",
       "      <td>22486</td>\n",
       "      <td>22486</td>\n",
       "      <td>22486</td>\n",
       "      <td>22486</td>\n",
       "      <td>22486</td>\n",
       "      <td>22486</td>\n",
       "      <td>...</td>\n",
       "      <td>22486</td>\n",
       "      <td>22486</td>\n",
       "      <td>22486</td>\n",
       "      <td>22486</td>\n",
       "      <td>22486</td>\n",
       "      <td>22486</td>\n",
       "      <td>22486</td>\n",
       "      <td>22486</td>\n",
       "      <td>22486</td>\n",
       "      <td>22486</td>\n",
       "    </tr>\n",
       "    <tr>\n",
       "      <th>es</th>\n",
       "      <td>13551</td>\n",
       "      <td>13551</td>\n",
       "      <td>13551</td>\n",
       "      <td>13551</td>\n",
       "      <td>13551</td>\n",
       "      <td>13551</td>\n",
       "      <td>13551</td>\n",
       "      <td>13551</td>\n",
       "      <td>13551</td>\n",
       "      <td>13551</td>\n",
       "      <td>...</td>\n",
       "      <td>13551</td>\n",
       "      <td>13551</td>\n",
       "      <td>13551</td>\n",
       "      <td>13551</td>\n",
       "      <td>13551</td>\n",
       "      <td>13551</td>\n",
       "      <td>13551</td>\n",
       "      <td>10142</td>\n",
       "      <td>10142</td>\n",
       "      <td>10142</td>\n",
       "    </tr>\n",
       "    <tr>\n",
       "      <th>fr</th>\n",
       "      <td>16948</td>\n",
       "      <td>16948</td>\n",
       "      <td>16948</td>\n",
       "      <td>16948</td>\n",
       "      <td>16948</td>\n",
       "      <td>16948</td>\n",
       "      <td>16948</td>\n",
       "      <td>16948</td>\n",
       "      <td>16948</td>\n",
       "      <td>16948</td>\n",
       "      <td>...</td>\n",
       "      <td>16948</td>\n",
       "      <td>16948</td>\n",
       "      <td>16948</td>\n",
       "      <td>16948</td>\n",
       "      <td>16948</td>\n",
       "      <td>16948</td>\n",
       "      <td>16948</td>\n",
       "      <td>16948</td>\n",
       "      <td>16948</td>\n",
       "      <td>16948</td>\n",
       "    </tr>\n",
       "    <tr>\n",
       "      <th>ja</th>\n",
       "      <td>19295</td>\n",
       "      <td>19295</td>\n",
       "      <td>19295</td>\n",
       "      <td>19295</td>\n",
       "      <td>19295</td>\n",
       "      <td>19295</td>\n",
       "      <td>19295</td>\n",
       "      <td>19295</td>\n",
       "      <td>19295</td>\n",
       "      <td>19295</td>\n",
       "      <td>...</td>\n",
       "      <td>19295</td>\n",
       "      <td>19295</td>\n",
       "      <td>19295</td>\n",
       "      <td>19295</td>\n",
       "      <td>19295</td>\n",
       "      <td>19295</td>\n",
       "      <td>19295</td>\n",
       "      <td>16140</td>\n",
       "      <td>16140</td>\n",
       "      <td>16140</td>\n",
       "    </tr>\n",
       "    <tr>\n",
       "      <th>no_lang</th>\n",
       "      <td>14494</td>\n",
       "      <td>14494</td>\n",
       "      <td>14494</td>\n",
       "      <td>14494</td>\n",
       "      <td>14494</td>\n",
       "      <td>14494</td>\n",
       "      <td>14494</td>\n",
       "      <td>14494</td>\n",
       "      <td>14494</td>\n",
       "      <td>14494</td>\n",
       "      <td>...</td>\n",
       "      <td>14494</td>\n",
       "      <td>14494</td>\n",
       "      <td>14494</td>\n",
       "      <td>14494</td>\n",
       "      <td>14494</td>\n",
       "      <td>14494</td>\n",
       "      <td>14494</td>\n",
       "      <td>25374</td>\n",
       "      <td>25374</td>\n",
       "      <td>25374</td>\n",
       "    </tr>\n",
       "    <tr>\n",
       "      <th>ru</th>\n",
       "      <td>14270</td>\n",
       "      <td>14270</td>\n",
       "      <td>14270</td>\n",
       "      <td>14270</td>\n",
       "      <td>14270</td>\n",
       "      <td>14270</td>\n",
       "      <td>14270</td>\n",
       "      <td>14270</td>\n",
       "      <td>14270</td>\n",
       "      <td>14270</td>\n",
       "      <td>...</td>\n",
       "      <td>14270</td>\n",
       "      <td>14270</td>\n",
       "      <td>14270</td>\n",
       "      <td>14270</td>\n",
       "      <td>14270</td>\n",
       "      <td>14270</td>\n",
       "      <td>14270</td>\n",
       "      <td>14270</td>\n",
       "      <td>14270</td>\n",
       "      <td>14270</td>\n",
       "    </tr>\n",
       "    <tr>\n",
       "      <th>zh</th>\n",
       "      <td>15211</td>\n",
       "      <td>15211</td>\n",
       "      <td>15211</td>\n",
       "      <td>15211</td>\n",
       "      <td>15211</td>\n",
       "      <td>15211</td>\n",
       "      <td>15211</td>\n",
       "      <td>15211</td>\n",
       "      <td>15211</td>\n",
       "      <td>15211</td>\n",
       "      <td>...</td>\n",
       "      <td>15211</td>\n",
       "      <td>15211</td>\n",
       "      <td>15211</td>\n",
       "      <td>15211</td>\n",
       "      <td>15211</td>\n",
       "      <td>15211</td>\n",
       "      <td>15211</td>\n",
       "      <td>15211</td>\n",
       "      <td>15211</td>\n",
       "      <td>15211</td>\n",
       "    </tr>\n",
       "  </tbody>\n",
       "</table>\n",
       "<p>8 rows × 554 columns</p>\n",
       "</div>"
      ],
      "text/plain": [
       "           Page  2015-07-01  2015-07-02  2015-07-03  2015-07-04  2015-07-05  \\\n",
       "Language                                                                      \n",
       "de        17362       17362       17362       17362       17362       17362   \n",
       "en        22486       22486       22486       22486       22486       22486   \n",
       "es        13551       13551       13551       13551       13551       13551   \n",
       "fr        16948       16948       16948       16948       16948       16948   \n",
       "ja        19295       19295       19295       19295       19295       19295   \n",
       "no_lang   14494       14494       14494       14494       14494       14494   \n",
       "ru        14270       14270       14270       14270       14270       14270   \n",
       "zh        15211       15211       15211       15211       15211       15211   \n",
       "\n",
       "          2015-07-06  2015-07-07  2015-07-08  2015-07-09  ...  2016-12-25  \\\n",
       "Language                                                  ...               \n",
       "de             17362       17362       17362       17362  ...       17362   \n",
       "en             22486       22486       22486       22486  ...       22486   \n",
       "es             13551       13551       13551       13551  ...       13551   \n",
       "fr             16948       16948       16948       16948  ...       16948   \n",
       "ja             19295       19295       19295       19295  ...       19295   \n",
       "no_lang        14494       14494       14494       14494  ...       14494   \n",
       "ru             14270       14270       14270       14270  ...       14270   \n",
       "zh             15211       15211       15211       15211  ...       15211   \n",
       "\n",
       "          2016-12-26  2016-12-27  2016-12-28  2016-12-29  2016-12-30  \\\n",
       "Language                                                               \n",
       "de             17362       17362       17362       17362       17362   \n",
       "en             22486       22486       22486       22486       22486   \n",
       "es             13551       13551       13551       13551       13551   \n",
       "fr             16948       16948       16948       16948       16948   \n",
       "ja             19295       19295       19295       19295       19295   \n",
       "no_lang        14494       14494       14494       14494       14494   \n",
       "ru             14270       14270       14270       14270       14270   \n",
       "zh             15211       15211       15211       15211       15211   \n",
       "\n",
       "          2016-12-31  Title  Access_type  Access_origin  \n",
       "Language                                                 \n",
       "de             17362  13046        13046          13046  \n",
       "en             22486  22486        22486          22486  \n",
       "es             13551  10142        10142          10142  \n",
       "fr             16948  16948        16948          16948  \n",
       "ja             19295  16140        16140          16140  \n",
       "no_lang        14494  25374        25374          25374  \n",
       "ru             14270  14270        14270          14270  \n",
       "zh             15211  15211        15211          15211  \n",
       "\n",
       "[8 rows x 554 columns]"
      ]
     },
     "execution_count": 24,
     "metadata": {},
     "output_type": "execute_result"
    }
   ],
   "source": [
    "df.groupby('Language').count() #now the count has increased. You can go back and get it sorted"
   ]
  },
  {
   "cell_type": "code",
   "execution_count": 25,
   "metadata": {
    "colab": {
     "base_uri": "https://localhost:8080/",
     "height": 423
    },
    "id": "c_egWOkyvDKT",
    "outputId": "396ddfad-00d0-42c6-85e7-6e5b3e25a5eb"
   },
   "outputs": [
    {
     "data": {
      "text/html": [
       "<div>\n",
       "<style scoped>\n",
       "    .dataframe tbody tr th:only-of-type {\n",
       "        vertical-align: middle;\n",
       "    }\n",
       "\n",
       "    .dataframe tbody tr th {\n",
       "        vertical-align: top;\n",
       "    }\n",
       "\n",
       "    .dataframe thead th {\n",
       "        text-align: right;\n",
       "    }\n",
       "</style>\n",
       "<table border=\"1\" class=\"dataframe\">\n",
       "  <thead>\n",
       "    <tr style=\"text-align: right;\">\n",
       "      <th>Language</th>\n",
       "      <th>de</th>\n",
       "      <th>en</th>\n",
       "      <th>es</th>\n",
       "      <th>fr</th>\n",
       "      <th>ja</th>\n",
       "      <th>no_lang</th>\n",
       "      <th>ru</th>\n",
       "      <th>zh</th>\n",
       "    </tr>\n",
       "  </thead>\n",
       "  <tbody>\n",
       "    <tr>\n",
       "      <th>2015-07-01</th>\n",
       "      <td>763.765926</td>\n",
       "      <td>3767.328604</td>\n",
       "      <td>1127.485204</td>\n",
       "      <td>499.092872</td>\n",
       "      <td>614.637160</td>\n",
       "      <td>102.733545</td>\n",
       "      <td>663.199229</td>\n",
       "      <td>272.498521</td>\n",
       "    </tr>\n",
       "    <tr>\n",
       "      <th>2015-07-02</th>\n",
       "      <td>753.362861</td>\n",
       "      <td>3755.158765</td>\n",
       "      <td>1077.485425</td>\n",
       "      <td>502.297852</td>\n",
       "      <td>705.813216</td>\n",
       "      <td>107.663447</td>\n",
       "      <td>674.677015</td>\n",
       "      <td>272.906778</td>\n",
       "    </tr>\n",
       "    <tr>\n",
       "      <th>2015-07-03</th>\n",
       "      <td>723.074415</td>\n",
       "      <td>3565.225696</td>\n",
       "      <td>990.895949</td>\n",
       "      <td>483.007553</td>\n",
       "      <td>637.451671</td>\n",
       "      <td>101.769629</td>\n",
       "      <td>625.329783</td>\n",
       "      <td>271.097167</td>\n",
       "    </tr>\n",
       "    <tr>\n",
       "      <th>2015-07-04</th>\n",
       "      <td>663.537323</td>\n",
       "      <td>3711.782932</td>\n",
       "      <td>930.303151</td>\n",
       "      <td>516.275785</td>\n",
       "      <td>800.897435</td>\n",
       "      <td>86.853871</td>\n",
       "      <td>588.171829</td>\n",
       "      <td>273.712379</td>\n",
       "    </tr>\n",
       "    <tr>\n",
       "      <th>2015-07-05</th>\n",
       "      <td>771.358657</td>\n",
       "      <td>3833.433025</td>\n",
       "      <td>1011.759575</td>\n",
       "      <td>506.871666</td>\n",
       "      <td>768.352319</td>\n",
       "      <td>96.254105</td>\n",
       "      <td>626.385354</td>\n",
       "      <td>291.977713</td>\n",
       "    </tr>\n",
       "    <tr>\n",
       "      <th>...</th>\n",
       "      <td>...</td>\n",
       "      <td>...</td>\n",
       "      <td>...</td>\n",
       "      <td>...</td>\n",
       "      <td>...</td>\n",
       "      <td>...</td>\n",
       "      <td>...</td>\n",
       "      <td>...</td>\n",
       "    </tr>\n",
       "    <tr>\n",
       "      <th>2016-12-27</th>\n",
       "      <td>1119.596936</td>\n",
       "      <td>6314.335275</td>\n",
       "      <td>1070.923400</td>\n",
       "      <td>840.590217</td>\n",
       "      <td>808.541436</td>\n",
       "      <td>155.270181</td>\n",
       "      <td>998.374071</td>\n",
       "      <td>363.066991</td>\n",
       "    </tr>\n",
       "    <tr>\n",
       "      <th>2016-12-28</th>\n",
       "      <td>1062.284069</td>\n",
       "      <td>6108.874144</td>\n",
       "      <td>1108.996753</td>\n",
       "      <td>783.585379</td>\n",
       "      <td>807.430163</td>\n",
       "      <td>178.561267</td>\n",
       "      <td>945.054730</td>\n",
       "      <td>369.049701</td>\n",
       "    </tr>\n",
       "    <tr>\n",
       "      <th>2016-12-29</th>\n",
       "      <td>1033.939062</td>\n",
       "      <td>6518.058525</td>\n",
       "      <td>1058.660320</td>\n",
       "      <td>763.209169</td>\n",
       "      <td>883.752786</td>\n",
       "      <td>150.873534</td>\n",
       "      <td>909.352207</td>\n",
       "      <td>340.526330</td>\n",
       "    </tr>\n",
       "    <tr>\n",
       "      <th>2016-12-30</th>\n",
       "      <td>981.786430</td>\n",
       "      <td>5401.792360</td>\n",
       "      <td>807.551177</td>\n",
       "      <td>710.502773</td>\n",
       "      <td>979.278777</td>\n",
       "      <td>156.049193</td>\n",
       "      <td>815.475123</td>\n",
       "      <td>342.745316</td>\n",
       "    </tr>\n",
       "    <tr>\n",
       "      <th>2016-12-31</th>\n",
       "      <td>937.842875</td>\n",
       "      <td>5280.643467</td>\n",
       "      <td>776.934322</td>\n",
       "      <td>654.060656</td>\n",
       "      <td>1228.720808</td>\n",
       "      <td>135.792052</td>\n",
       "      <td>902.600210</td>\n",
       "      <td>352.184275</td>\n",
       "    </tr>\n",
       "  </tbody>\n",
       "</table>\n",
       "<p>550 rows × 8 columns</p>\n",
       "</div>"
      ],
      "text/plain": [
       "Language             de           en           es          fr           ja  \\\n",
       "2015-07-01   763.765926  3767.328604  1127.485204  499.092872   614.637160   \n",
       "2015-07-02   753.362861  3755.158765  1077.485425  502.297852   705.813216   \n",
       "2015-07-03   723.074415  3565.225696   990.895949  483.007553   637.451671   \n",
       "2015-07-04   663.537323  3711.782932   930.303151  516.275785   800.897435   \n",
       "2015-07-05   771.358657  3833.433025  1011.759575  506.871666   768.352319   \n",
       "...                 ...          ...          ...         ...          ...   \n",
       "2016-12-27  1119.596936  6314.335275  1070.923400  840.590217   808.541436   \n",
       "2016-12-28  1062.284069  6108.874144  1108.996753  783.585379   807.430163   \n",
       "2016-12-29  1033.939062  6518.058525  1058.660320  763.209169   883.752786   \n",
       "2016-12-30   981.786430  5401.792360   807.551177  710.502773   979.278777   \n",
       "2016-12-31   937.842875  5280.643467   776.934322  654.060656  1228.720808   \n",
       "\n",
       "Language       no_lang          ru          zh  \n",
       "2015-07-01  102.733545  663.199229  272.498521  \n",
       "2015-07-02  107.663447  674.677015  272.906778  \n",
       "2015-07-03  101.769629  625.329783  271.097167  \n",
       "2015-07-04   86.853871  588.171829  273.712379  \n",
       "2015-07-05   96.254105  626.385354  291.977713  \n",
       "...                ...         ...         ...  \n",
       "2016-12-27  155.270181  998.374071  363.066991  \n",
       "2016-12-28  178.561267  945.054730  369.049701  \n",
       "2016-12-29  150.873534  909.352207  340.526330  \n",
       "2016-12-30  156.049193  815.475123  342.745316  \n",
       "2016-12-31  135.792052  902.600210  352.184275  \n",
       "\n",
       "[550 rows x 8 columns]"
      ]
     },
     "execution_count": 25,
     "metadata": {},
     "output_type": "execute_result"
    }
   ],
   "source": [
    "df_language=df.groupby('Language').mean().transpose()\n",
    "df_language"
   ]
  },
  {
   "cell_type": "code",
   "execution_count": 26,
   "metadata": {
    "id": "4eSnAtLIvGKb"
   },
   "outputs": [],
   "source": [
    "df_language.reset_index(inplace=True)\n",
    "df_language.set_index('index', inplace=True)"
   ]
  },
  {
   "cell_type": "code",
   "execution_count": 27,
   "metadata": {
    "colab": {
     "base_uri": "https://localhost:8080/",
     "height": 455
    },
    "id": "wXAbdPJFygqj",
    "outputId": "4b3a0dc0-54c6-44cd-8464-7b4e27316c2d"
   },
   "outputs": [
    {
     "data": {
      "text/html": [
       "<div>\n",
       "<style scoped>\n",
       "    .dataframe tbody tr th:only-of-type {\n",
       "        vertical-align: middle;\n",
       "    }\n",
       "\n",
       "    .dataframe tbody tr th {\n",
       "        vertical-align: top;\n",
       "    }\n",
       "\n",
       "    .dataframe thead th {\n",
       "        text-align: right;\n",
       "    }\n",
       "</style>\n",
       "<table border=\"1\" class=\"dataframe\">\n",
       "  <thead>\n",
       "    <tr style=\"text-align: right;\">\n",
       "      <th>Language</th>\n",
       "      <th>de</th>\n",
       "      <th>en</th>\n",
       "      <th>es</th>\n",
       "      <th>fr</th>\n",
       "      <th>ja</th>\n",
       "      <th>no_lang</th>\n",
       "      <th>ru</th>\n",
       "      <th>zh</th>\n",
       "    </tr>\n",
       "    <tr>\n",
       "      <th>index</th>\n",
       "      <th></th>\n",
       "      <th></th>\n",
       "      <th></th>\n",
       "      <th></th>\n",
       "      <th></th>\n",
       "      <th></th>\n",
       "      <th></th>\n",
       "      <th></th>\n",
       "    </tr>\n",
       "  </thead>\n",
       "  <tbody>\n",
       "    <tr>\n",
       "      <th>2015-07-01</th>\n",
       "      <td>763.765926</td>\n",
       "      <td>3767.328604</td>\n",
       "      <td>1127.485204</td>\n",
       "      <td>499.092872</td>\n",
       "      <td>614.637160</td>\n",
       "      <td>102.733545</td>\n",
       "      <td>663.199229</td>\n",
       "      <td>272.498521</td>\n",
       "    </tr>\n",
       "    <tr>\n",
       "      <th>2015-07-02</th>\n",
       "      <td>753.362861</td>\n",
       "      <td>3755.158765</td>\n",
       "      <td>1077.485425</td>\n",
       "      <td>502.297852</td>\n",
       "      <td>705.813216</td>\n",
       "      <td>107.663447</td>\n",
       "      <td>674.677015</td>\n",
       "      <td>272.906778</td>\n",
       "    </tr>\n",
       "    <tr>\n",
       "      <th>2015-07-03</th>\n",
       "      <td>723.074415</td>\n",
       "      <td>3565.225696</td>\n",
       "      <td>990.895949</td>\n",
       "      <td>483.007553</td>\n",
       "      <td>637.451671</td>\n",
       "      <td>101.769629</td>\n",
       "      <td>625.329783</td>\n",
       "      <td>271.097167</td>\n",
       "    </tr>\n",
       "    <tr>\n",
       "      <th>2015-07-04</th>\n",
       "      <td>663.537323</td>\n",
       "      <td>3711.782932</td>\n",
       "      <td>930.303151</td>\n",
       "      <td>516.275785</td>\n",
       "      <td>800.897435</td>\n",
       "      <td>86.853871</td>\n",
       "      <td>588.171829</td>\n",
       "      <td>273.712379</td>\n",
       "    </tr>\n",
       "    <tr>\n",
       "      <th>2015-07-05</th>\n",
       "      <td>771.358657</td>\n",
       "      <td>3833.433025</td>\n",
       "      <td>1011.759575</td>\n",
       "      <td>506.871666</td>\n",
       "      <td>768.352319</td>\n",
       "      <td>96.254105</td>\n",
       "      <td>626.385354</td>\n",
       "      <td>291.977713</td>\n",
       "    </tr>\n",
       "    <tr>\n",
       "      <th>...</th>\n",
       "      <td>...</td>\n",
       "      <td>...</td>\n",
       "      <td>...</td>\n",
       "      <td>...</td>\n",
       "      <td>...</td>\n",
       "      <td>...</td>\n",
       "      <td>...</td>\n",
       "      <td>...</td>\n",
       "    </tr>\n",
       "    <tr>\n",
       "      <th>2016-12-27</th>\n",
       "      <td>1119.596936</td>\n",
       "      <td>6314.335275</td>\n",
       "      <td>1070.923400</td>\n",
       "      <td>840.590217</td>\n",
       "      <td>808.541436</td>\n",
       "      <td>155.270181</td>\n",
       "      <td>998.374071</td>\n",
       "      <td>363.066991</td>\n",
       "    </tr>\n",
       "    <tr>\n",
       "      <th>2016-12-28</th>\n",
       "      <td>1062.284069</td>\n",
       "      <td>6108.874144</td>\n",
       "      <td>1108.996753</td>\n",
       "      <td>783.585379</td>\n",
       "      <td>807.430163</td>\n",
       "      <td>178.561267</td>\n",
       "      <td>945.054730</td>\n",
       "      <td>369.049701</td>\n",
       "    </tr>\n",
       "    <tr>\n",
       "      <th>2016-12-29</th>\n",
       "      <td>1033.939062</td>\n",
       "      <td>6518.058525</td>\n",
       "      <td>1058.660320</td>\n",
       "      <td>763.209169</td>\n",
       "      <td>883.752786</td>\n",
       "      <td>150.873534</td>\n",
       "      <td>909.352207</td>\n",
       "      <td>340.526330</td>\n",
       "    </tr>\n",
       "    <tr>\n",
       "      <th>2016-12-30</th>\n",
       "      <td>981.786430</td>\n",
       "      <td>5401.792360</td>\n",
       "      <td>807.551177</td>\n",
       "      <td>710.502773</td>\n",
       "      <td>979.278777</td>\n",
       "      <td>156.049193</td>\n",
       "      <td>815.475123</td>\n",
       "      <td>342.745316</td>\n",
       "    </tr>\n",
       "    <tr>\n",
       "      <th>2016-12-31</th>\n",
       "      <td>937.842875</td>\n",
       "      <td>5280.643467</td>\n",
       "      <td>776.934322</td>\n",
       "      <td>654.060656</td>\n",
       "      <td>1228.720808</td>\n",
       "      <td>135.792052</td>\n",
       "      <td>902.600210</td>\n",
       "      <td>352.184275</td>\n",
       "    </tr>\n",
       "  </tbody>\n",
       "</table>\n",
       "<p>550 rows × 8 columns</p>\n",
       "</div>"
      ],
      "text/plain": [
       "Language             de           en           es          fr           ja  \\\n",
       "index                                                                        \n",
       "2015-07-01   763.765926  3767.328604  1127.485204  499.092872   614.637160   \n",
       "2015-07-02   753.362861  3755.158765  1077.485425  502.297852   705.813216   \n",
       "2015-07-03   723.074415  3565.225696   990.895949  483.007553   637.451671   \n",
       "2015-07-04   663.537323  3711.782932   930.303151  516.275785   800.897435   \n",
       "2015-07-05   771.358657  3833.433025  1011.759575  506.871666   768.352319   \n",
       "...                 ...          ...          ...         ...          ...   \n",
       "2016-12-27  1119.596936  6314.335275  1070.923400  840.590217   808.541436   \n",
       "2016-12-28  1062.284069  6108.874144  1108.996753  783.585379   807.430163   \n",
       "2016-12-29  1033.939062  6518.058525  1058.660320  763.209169   883.752786   \n",
       "2016-12-30   981.786430  5401.792360   807.551177  710.502773   979.278777   \n",
       "2016-12-31   937.842875  5280.643467   776.934322  654.060656  1228.720808   \n",
       "\n",
       "Language       no_lang          ru          zh  \n",
       "index                                           \n",
       "2015-07-01  102.733545  663.199229  272.498521  \n",
       "2015-07-02  107.663447  674.677015  272.906778  \n",
       "2015-07-03  101.769629  625.329783  271.097167  \n",
       "2015-07-04   86.853871  588.171829  273.712379  \n",
       "2015-07-05   96.254105  626.385354  291.977713  \n",
       "...                ...         ...         ...  \n",
       "2016-12-27  155.270181  998.374071  363.066991  \n",
       "2016-12-28  178.561267  945.054730  369.049701  \n",
       "2016-12-29  150.873534  909.352207  340.526330  \n",
       "2016-12-30  156.049193  815.475123  342.745316  \n",
       "2016-12-31  135.792052  902.600210  352.184275  \n",
       "\n",
       "[550 rows x 8 columns]"
      ]
     },
     "execution_count": 27,
     "metadata": {},
     "output_type": "execute_result"
    }
   ],
   "source": [
    "df_language"
   ]
  },
  {
   "cell_type": "code",
   "execution_count": 28,
   "metadata": {
    "colab": {
     "base_uri": "https://localhost:8080/",
     "height": 637
    },
    "id": "3u4PvkWJyic6",
    "outputId": "3f83a4a8-559e-41ca-e615-00435d6ff0be"
   },
   "outputs": [
    {
     "data": {
      "text/plain": [
       "Text(0, 0.5, 'Views per Page')"
      ]
     },
     "execution_count": 28,
     "metadata": {},
     "output_type": "execute_result"
    },
    {
     "data": {
      "image/png": "[encoded data removed]",
      "text/plain": [
       "<Figure size 864x504 with 1 Axes>"
      ]
     },
     "metadata": {
      "needs_background": "light"
     },
     "output_type": "display_data"
    }
   ],
   "source": [
    "df_language.plot(figsize=(12,7))\n",
    "plot.ylabel('Views per Page')"
   ]
  },
  {
   "cell_type": "markdown",
   "metadata": {
    "id": "fWM1f40oyup4"
   },
   "source": [
    "Ploting the data shows that articles in english get the most number of views as compared to different languages, there are some spikes at different times in different laguages"
   ]
  },
  {
   "cell_type": "code",
   "execution_count": 29,
   "metadata": {
    "colab": {
     "base_uri": "https://localhost:8080/",
     "height": 637
    },
    "id": "MuBMd_zOyntK",
    "outputId": "8e864ab9-7411-4b91-8b0a-f3025afb6981"
   },
   "outputs": [
    {
     "data": {
      "text/plain": [
       "Text(0, 0.5, 'Views per Page')"
      ]
     },
     "execution_count": 29,
     "metadata": {},
     "output_type": "execute_result"
    },
    {
     "data": {
      "image/png": "[encoded data removed]",
      "text/plain": [
       "<Figure size 864x504 with 1 Axes>"
      ]
     },
     "metadata": {
      "needs_background": "light"
     },
     "output_type": "display_data"
    }
   ],
   "source": [
    "df_language['en'].plot(figsize=(12,7))\n",
    "plot.ylabel('Views per Page')"
   ]
  },
  {
   "cell_type": "code",
   "execution_count": 30,
   "metadata": {
    "id": "BWf8VVH1y04i"
   },
   "outputs": [],
   "source": [
    "total_view=df_language.copy()"
   ]
  },
  {
   "cell_type": "markdown",
   "metadata": {
    "id": "J-5Ot9C95c8F"
   },
   "source": [
    "## Check if time series is Stationary/Non-stationary\n",
    "\n",
    "**NULL Hypothesis:** Time Series is Non-Stationary <br>\n",
    "**ALTERNATE Hypothesis:**  Time Series is Stationary"
   ]
  },
  {
   "cell_type": "code",
   "execution_count": 31,
   "metadata": {
    "colab": {
     "base_uri": "https://localhost:8080/"
    },
    "id": "dlfvqFnQy-n6",
    "outputId": "15136d1a-28fc-4876-f571-cf1dc5c78088"
   },
   "outputs": [
    {
     "name": "stdout",
     "output_type": "stream",
     "text": [
      "0.14933749437355304\n",
      "Time Series is Non-Stationary\n"
     ]
    }
   ],
   "source": [
    "from statsmodels.tsa.stattools import adfuller\n",
    "def df_test(x):\n",
    "    result=adfuller(x)\n",
    "    # print('ADF Stastistic: %f'%result[0])\n",
    "    # print('p-value: %f'%result[1])\n",
    "    p_value=result[1]\n",
    "    return p_value\n",
    "\n",
    "p_value=df_test(total_view['en'])\n",
    "\n",
    "if p_value<0.05:\n",
    "  print(p_value)\n",
    "  print(\"Time Series is Stationary\")\n",
    "else:\n",
    "  print(p_value)\n",
    "  print(\"Time Series is Non-Stationary\")"
   ]
  },
  {
   "cell_type": "markdown",
   "metadata": {
    "id": "1cDZmv016vCo"
   },
   "source": [
    "## Converting to Stationary Time Series\n"
   ]
  },
  {
   "cell_type": "markdown",
   "metadata": {
    "id": "SjEAukCZCB1C"
   },
   "source": [
    "### Decomposition"
   ]
  },
  {
   "cell_type": "code",
   "execution_count": 32,
   "metadata": {
    "id": "2i-2Jisi545U"
   },
   "outputs": [],
   "source": [
    "ts=total_view['en']"
   ]
  },
  {
   "cell_type": "code",
   "execution_count": 33,
   "metadata": {
    "colab": {
     "base_uri": "https://localhost:8080/",
     "height": 707
    },
    "id": "MMbKefgc7RBa",
    "outputId": "22cb9f6b-92b5-4299-e4ee-5a553a7aaa39"
   },
   "outputs": [
    {
     "data": {
      "image/png": "[encoded data removed]",
      "text/plain": [
       "<Figure size 720x504 with 4 Axes>"
      ]
     },
     "metadata": {
      "needs_background": "light"
     },
     "output_type": "display_data"
    }
   ],
   "source": [
    "# Naive decomposition of our Time Series as explained above\n",
    "from statsmodels.tsa.seasonal import seasonal_decompose\n",
    "decomposition = seasonal_decompose(ts.values, model='multiplicative',period = 7)\n",
    "\n",
    "\"\"\" Additive or multiplicative?\n",
    "  It’s important to understand what the difference between a multiplicative time series and an additive one before we go any further.\n",
    "\n",
    "  There are three components to a time series:\n",
    "  – trend how things are overall changing\n",
    "  – seasonality how things change within a given period e.g. a year, month, week, day\n",
    "  – error/residual/irregular activity not explained by the trend or the seasonal value\n",
    "\n",
    "  How these three components interact determines the difference between a multiplicative and an additive time series.\n",
    "\n",
    "  In a multiplicative time series, the components multiply together to make the time series. If you have an increasing trend, the amplitude of seasonal activity increases. Everything becomes more exaggerated. This is common when you’re looking at web traffic.\n",
    "\n",
    "  In an additive time series, the components add together to make the time series. If you have an increasing trend, you still see roughly the same size peaks and troughs throughout the time series. This is often seen in indexed time series where the absolute value is growing but changes stay relative.\n",
    "\n",
    "\n",
    "\"\"\"\n",
    "\n",
    "trend = decomposition.trend\n",
    "seasonal = decomposition.seasonal\n",
    "residual = decomposition.resid\n",
    "\n",
    "plot.figure(figsize=(10,7))\n",
    "plot.subplot(411)\n",
    "plot.title('Observed = Trend + Seasonality + Residuals')\n",
    "plot.plot(ts.values,label='Observed')\n",
    "plot.legend(loc='best')\n",
    "plot.subplot(412)\n",
    "plot.plot(trend, label='Trend')\n",
    "plot.legend(loc='best')\n",
    "plot.subplot(413)\n",
    "plot.plot(seasonal,label='Seasonality')\n",
    "plot.legend(loc='best')\n",
    "plot.subplot(414)\n",
    "plot.plot(residual, label='Residuals')\n",
    "plot.legend(loc='best')\n",
    "plot.tight_layout()\n",
    "plot.show()"
   ]
  },
  {
   "cell_type": "code",
   "execution_count": 34,
   "metadata": {
    "colab": {
     "base_uri": "https://localhost:8080/"
    },
    "id": "QbEFV_rm7SvC",
    "outputId": "334c9217-7d02-428e-ecd8-bb6597d4b118"
   },
   "outputs": [
    {
     "data": {
      "text/plain": [
       "0.002945192049032519"
      ]
     },
     "execution_count": 34,
     "metadata": {},
     "output_type": "execute_result"
    }
   ],
   "source": [
    "ts_decompose=pd.DataFrame(residual).fillna(0)[0].values\n",
    "df_test(ts_decompose)"
   ]
  },
  {
   "cell_type": "markdown",
   "metadata": {
    "id": "QO0fYCaKB6wT"
   },
   "source": [
    "Time series is now stationary"
   ]
  },
  {
   "cell_type": "markdown",
   "metadata": {
    "id": "JZ3_WKRsCEnQ"
   },
   "source": [
    "### Differenciating"
   ]
  },
  {
   "cell_type": "code",
   "execution_count": 35,
   "metadata": {
    "colab": {
     "base_uri": "https://localhost:8080/",
     "height": 430
    },
    "id": "N9mKLvSyBxWw",
    "outputId": "94972d4a-f193-401b-dfe7-8cc8b78b1cd9"
   },
   "outputs": [
    {
     "data": {
      "image/png": "[encoded data removed]",
      "text/plain": [
       "<Figure size 432x288 with 1 Axes>"
      ]
     },
     "metadata": {
      "needs_background": "light"
     },
     "output_type": "display_data"
    }
   ],
   "source": [
    "ts_diff = ts - ts.shift(1)\n",
    "plot.plot(ts_diff.values)\n",
    "plot.show()"
   ]
  },
  {
   "cell_type": "code",
   "execution_count": 36,
   "metadata": {
    "colab": {
     "base_uri": "https://localhost:8080/"
    },
    "id": "71VkFuZyCKCt",
    "outputId": "7b9e4bcf-68ee-4bcb-85c0-a1ecba0cf5cc"
   },
   "outputs": [
    {
     "data": {
      "text/plain": [
       "4.721271966433165e-13"
      ]
     },
     "execution_count": 36,
     "metadata": {},
     "output_type": "execute_result"
    }
   ],
   "source": [
    "ts_diff.dropna(inplace=True)\n",
    "df_test(ts_diff)"
   ]
  },
  {
   "cell_type": "markdown",
   "metadata": {
    "id": "37sI15EqCQ_I"
   },
   "source": [
    "Time series is now stationary"
   ]
  },
  {
   "cell_type": "markdown",
   "metadata": {
    "id": "Kt2GQfhzCiwd"
   },
   "source": [
    "## Plot the autocorreltaion and partial auto correlation functions"
   ]
  },
  {
   "cell_type": "code",
   "execution_count": 37,
   "metadata": {
    "colab": {
     "base_uri": "https://localhost:8080/",
     "height": 887
    },
    "id": "mSNIpXaQCOeg",
    "outputId": "63d36fb0-888a-4bb1-f99b-468f13e4cb13"
   },
   "outputs": [
    {
     "data": {
      "image/png": "[encoded data removed]",
      "text/plain": [
       "<Figure size 432x288 with 1 Axes>"
      ]
     },
     "metadata": {
      "needs_background": "light"
     },
     "output_type": "display_data"
    },
    {
     "data": {
      "image/png": "[encoded data removed]",
      "text/plain": [
       "<Figure size 432x288 with 1 Axes>"
      ]
     },
     "metadata": {
      "needs_background": "light"
     },
     "output_type": "display_data"
    }
   ],
   "source": [
    "from statsmodels.graphics.tsaplots import plot_acf, plot_pacf\n",
    "acf=plot_acf(ts_diff,lags=20)\n",
    "pacf=plot_pacf(ts_diff,lags=20)"
   ]
  },
  {
   "cell_type": "markdown",
   "metadata": {
    "id": "onRdc90Q67SE"
   },
   "source": [
    "# ARIMA Model"
   ]
  },
  {
   "cell_type": "code",
   "execution_count": 38,
   "metadata": {
    "id": "JBDxNNr3CcmJ"
   },
   "outputs": [],
   "source": [
    "from statsmodels.tsa.arima_model import ARIMA\n",
    "from pandas import DataFrame"
   ]
  },
  {
   "cell_type": "code",
   "execution_count": 39,
   "metadata": {
    "id": "MEm_WTjD7RRo"
   },
   "outputs": [],
   "source": [
    "import statsmodels.api as sm"
   ]
  },
  {
   "cell_type": "code",
   "execution_count": 40,
   "metadata": {
    "colab": {
     "base_uri": "https://localhost:8080/"
    },
    "id": "hP3AAWYD_Pes",
    "outputId": "0a6c3bea-663e-4c37-b8a5-8f8b78dedfea"
   },
   "outputs": [
    {
     "data": {
      "text/plain": [
       "index\n",
       "2015-07-01    3767.328604\n",
       "2015-07-02    3755.158765\n",
       "2015-07-03    3565.225696\n",
       "2015-07-04    3711.782932\n",
       "2015-07-05    3833.433025\n",
       "                 ...     \n",
       "2016-12-27    6314.335275\n",
       "2016-12-28    6108.874144\n",
       "2016-12-29    6518.058525\n",
       "2016-12-30    5401.792360\n",
       "2016-12-31    5280.643467\n",
       "Name: en, Length: 550, dtype: float64"
      ]
     },
     "execution_count": 40,
     "metadata": {},
     "output_type": "execute_result"
    }
   ],
   "source": [
    "ts"
   ]
  },
  {
   "cell_type": "code",
   "execution_count": 41,
   "metadata": {
    "id": "LidQejDeCic8"
   },
   "outputs": [],
   "source": [
    "train = ts[:-20]\n",
    "test = ts[-20:]"
   ]
  },
  {
   "cell_type": "code",
   "execution_count": 42,
   "metadata": {
    "colab": {
     "base_uri": "https://localhost:8080/"
    },
    "id": "aiZ-DttYComm",
    "outputId": "c3254a88-c4b0-4b3a-ffe0-71c1c1cff2f0"
   },
   "outputs": [
    {
     "data": {
      "text/plain": [
       "index\n",
       "2015-07-01    3767.328604\n",
       "2015-07-02    3755.158765\n",
       "2015-07-03    3565.225696\n",
       "2015-07-04    3711.782932\n",
       "2015-07-05    3833.433025\n",
       "                 ...     \n",
       "2016-12-07    5114.482745\n",
       "2016-12-08    5021.173130\n",
       "2016-12-09    4624.299475\n",
       "2016-12-10    4786.770924\n",
       "2016-12-11    5013.644668\n",
       "Name: en, Length: 530, dtype: float64"
      ]
     },
     "execution_count": 42,
     "metadata": {},
     "output_type": "execute_result"
    }
   ],
   "source": [
    "train"
   ]
  },
  {
   "cell_type": "code",
   "execution_count": 43,
   "metadata": {
    "colab": {
     "base_uri": "https://localhost:8080/"
    },
    "id": "Tfg2utIPCp_x",
    "outputId": "4391d9bf-2b41-4292-9d00-849700f4316e"
   },
   "outputs": [
    {
     "data": {
      "text/plain": [
       "index\n",
       "2016-12-12    5193.673219\n",
       "2016-12-13    4934.576981\n",
       "2016-12-14    5185.052477\n",
       "2016-12-15    4711.162323\n",
       "2016-12-16    4449.926665\n",
       "2016-12-17    4449.799698\n",
       "2016-12-18    5141.560082\n",
       "2016-12-19    5596.838566\n",
       "2016-12-20    5511.269812\n",
       "2016-12-21    5120.664413\n",
       "2016-12-22    5191.453438\n",
       "2016-12-23    4850.360002\n",
       "2016-12-24    5162.438451\n",
       "2016-12-25    5360.667704\n",
       "2016-12-26    6036.850129\n",
       "2016-12-27    6314.335275\n",
       "2016-12-28    6108.874144\n",
       "2016-12-29    6518.058525\n",
       "2016-12-30    5401.792360\n",
       "2016-12-31    5280.643467\n",
       "Name: en, dtype: float64"
      ]
     },
     "execution_count": 43,
     "metadata": {},
     "output_type": "execute_result"
    }
   ],
   "source": [
    "test"
   ]
  },
  {
   "cell_type": "code",
   "execution_count": 44,
   "metadata": {
    "colab": {
     "base_uri": "https://localhost:8080/"
    },
    "id": "jTp-7Gm__i2I",
    "outputId": "f047fb74-00cb-472f-ef33-1a40fccda436"
   },
   "outputs": [
    {
     "name": "stderr",
     "output_type": "stream",
     "text": [
      "D:\\Subhrajit\\anaconda3\\lib\\site-packages\\statsmodels\\tsa\\base\\tsa_model.py:524: ValueWarning: No frequency information was provided, so inferred frequency D will be used.\n",
      "  warnings.warn('No frequency information was'\n",
      "D:\\Subhrajit\\anaconda3\\lib\\site-packages\\statsmodels\\tsa\\base\\tsa_model.py:524: ValueWarning: No frequency information was provided, so inferred frequency D will be used.\n",
      "  warnings.warn('No frequency information was'\n",
      "D:\\Subhrajit\\anaconda3\\lib\\site-packages\\statsmodels\\tsa\\base\\tsa_model.py:524: ValueWarning: No frequency information was provided, so inferred frequency D will be used.\n",
      "  warnings.warn('No frequency information was'\n",
      "D:\\Subhrajit\\anaconda3\\lib\\site-packages\\statsmodels\\base\\model.py:566: ConvergenceWarning: Maximum Likelihood optimization failed to converge. Check mle_retvals\n",
      "  warnings.warn(\"Maximum Likelihood optimization failed to \"\n"
     ]
    }
   ],
   "source": [
    "#model = ARIMA(train, order=(4, 1, 3))\n",
    "model = sm.tsa.arima.ARIMA(train, order=(4, 1, 3))\n",
    "fitted = model.fit()\n",
    "\n",
    "# Forecast\n",
    "fc = fitted.forecast(20, alpha=0.02)"
   ]
  },
  {
   "cell_type": "code",
   "execution_count": 45,
   "metadata": {
    "colab": {
     "base_uri": "https://localhost:8080/"
    },
    "id": "02ZZ5t_eDIqn",
    "outputId": "0901e8e7-a8db-481d-da4b-8162db2cc088"
   },
   "outputs": [
    {
     "data": {
      "text/plain": [
       "2016-12-12    5126.166791\n",
       "2016-12-13    5065.083154\n",
       "2016-12-14    4873.101904\n",
       "2016-12-15    4696.240030\n",
       "2016-12-16    4666.382584\n",
       "2016-12-17    4807.285471\n",
       "2016-12-18    5011.580184\n",
       "2016-12-19    5126.688739\n",
       "2016-12-20    5064.682327\n",
       "2016-12-21    4873.498225\n",
       "2016-12-22    4695.863664\n",
       "2016-12-23    4666.769723\n",
       "2016-12-24    4806.899820\n",
       "2016-12-25    5011.949820\n",
       "2016-12-26    5126.304631\n",
       "2016-12-27    5065.057463\n",
       "2016-12-28    4873.133274\n",
       "2016-12-29    4696.243425\n",
       "2016-12-30    4666.405068\n",
       "2016-12-31    4807.261718\n",
       "Freq: D, Name: predicted_mean, dtype: float64"
      ]
     },
     "execution_count": 45,
     "metadata": {},
     "output_type": "execute_result"
    }
   ],
   "source": [
    "fc"
   ]
  },
  {
   "cell_type": "code",
   "execution_count": 46,
   "metadata": {
    "colab": {
     "base_uri": "https://localhost:8080/",
     "height": 486
    },
    "id": "Ics-hs4SDAaF",
    "outputId": "99c45dcd-3f5c-4711-a5e7-228dc2d927e4"
   },
   "outputs": [
    {
     "data": {
      "text/plain": [
       "<matplotlib.legend.Legend at 0x2583f8ea550>"
      ]
     },
     "execution_count": 46,
     "metadata": {},
     "output_type": "execute_result"
    },
    {
     "data": {
      "image/png": "[encoded data removed]",
      "text/plain": [
       "<Figure size 1200x500 with 1 Axes>"
      ]
     },
     "metadata": {
      "needs_background": "light"
     },
     "output_type": "display_data"
    }
   ],
   "source": [
    "fc_series = pd.Series(fc, index=test.index)\n",
    "# Plot\n",
    "plot.figure(figsize=(12,5), dpi=100)\n",
    "plot.plot(train, label='training')\n",
    "plot.plot(test, label='actual')\n",
    "plot.plot(fc_series, label='forecast')\n",
    "\n",
    "plot.title('Forecast vs Actuals')\n",
    "plot.legend(loc='upper left', fontsize=8)"
   ]
  },
  {
   "cell_type": "code",
   "execution_count": 47,
   "metadata": {
    "colab": {
     "base_uri": "https://localhost:8080/"
    },
    "id": "FFeqf0AUFAxI",
    "outputId": "84bffcfe-8665-4fc7-e023-ec9098dcd782"
   },
   "outputs": [
    {
     "name": "stdout",
     "output_type": "stream",
     "text": [
      "mape: 0.08969122280773775\n",
      "rsme: 682.6531459449876\n"
     ]
    }
   ],
   "source": [
    "mape = np.mean(np.abs(fc - test.values)/np.abs(test.values))\n",
    "rmse = np.mean((fc - test.values)**2)**.5\n",
    "print(\"mape:\",mape)\n",
    "print(\"rsme:\",rmse)"
   ]
  },
  {
   "cell_type": "markdown",
   "metadata": {
    "id": "ZIaykZHhFJBj"
   },
   "source": [
    "## SARIMAX"
   ]
  },
  {
   "cell_type": "code",
   "execution_count": 48,
   "metadata": {
    "colab": {
     "base_uri": "https://localhost:8080/"
    },
    "id": "FywrX0CED3rp",
    "outputId": "82029bf8-3bf9-4d6b-9184-1decc7b69860"
   },
   "outputs": [
    {
     "name": "stderr",
     "output_type": "stream",
     "text": [
      "Downloading...\n",
      "From: https://drive.google.com/uc?id=1H9054-eVP9IdANPOblXwX7Nd2r_Sjf1u\n",
      "To: C:\\Users\\PREDATOR\\Scaler\\Unsupervised and RecSys\\Exog_Campaign_eng\n",
      "\n",
      "  0%|          | 0.00/1.10k [00:00<?, ?B/s]\n",
      "100%|##########| 1.10k/1.10k [00:00<00:00, 1.11MB/s]\n"
     ]
    }
   ],
   "source": [
    "!gdown 1H9054-eVP9IdANPOblXwX7Nd2r_Sjf1u\n",
    "ex_df = pd.read_csv('Exog_Campaign_eng')\n",
    "ex_df.head()\n",
    "exog=ex_df['Exog'].to_numpy()"
   ]
  },
  {
   "cell_type": "code",
   "execution_count": 49,
   "metadata": {
    "colab": {
     "base_uri": "https://localhost:8080/",
     "height": 617
    },
    "id": "p0ITztjxD3ui",
    "outputId": "45fdb801-6b81-4a9f-f7ee-8923e1a1fabd"
   },
   "outputs": [
    {
     "name": "stderr",
     "output_type": "stream",
     "text": [
      "D:\\Subhrajit\\anaconda3\\lib\\site-packages\\statsmodels\\tsa\\base\\tsa_model.py:524: ValueWarning: No frequency information was provided, so inferred frequency D will be used.\n",
      "  warnings.warn('No frequency information was'\n",
      "D:\\Subhrajit\\anaconda3\\lib\\site-packages\\statsmodels\\tsa\\base\\tsa_model.py:524: ValueWarning: No frequency information was provided, so inferred frequency D will be used.\n",
      "  warnings.warn('No frequency information was'\n",
      "D:\\Subhrajit\\anaconda3\\lib\\site-packages\\statsmodels\\base\\model.py:566: ConvergenceWarning: Maximum Likelihood optimization failed to converge. Check mle_retvals\n",
      "  warnings.warn(\"Maximum Likelihood optimization failed to \"\n"
     ]
    },
    {
     "data": {
      "text/plain": [
       "<matplotlib.legend.Legend at 0x258b7ea7af0>"
      ]
     },
     "execution_count": 49,
     "metadata": {},
     "output_type": "execute_result"
    },
    {
     "data": {
      "image/png": "[encoded data removed]",
      "text/plain": [
       "<Figure size 1200x500 with 1 Axes>"
      ]
     },
     "metadata": {
      "needs_background": "light"
     },
     "output_type": "display_data"
    }
   ],
   "source": [
    "import statsmodels.api as sm\n",
    "train=ts[:520]\n",
    "test=ts[520:]\n",
    "model=sm.tsa.statespace.SARIMAX(train,order=(4, 1, 3),seasonal_order=(1,1,1,7),exog=exog[:520])\n",
    "results=model.fit()\n",
    "\n",
    "fc=results.forecast(30,dynamic=True,exog=pd.DataFrame(exog[520:]))\n",
    "\n",
    "# Make as pandas series\n",
    "fc_series = pd.Series(fc)\n",
    "# Plot\n",
    "train.index=train.index.astype('datetime64[ns]')\n",
    "test.index=test.index.astype('datetime64[ns]')\n",
    "plot.figure(figsize=(12,5), dpi=100)\n",
    "plot.plot(train, label='training')\n",
    "plot.plot(test, label='actual')\n",
    "plot.plot(fc_series, label='forecast')\n",
    "\n",
    "plot.title('Forecast vs Actuals')\n",
    "plot.legend(loc='upper left', fontsize=8)"
   ]
  },
  {
   "cell_type": "code",
   "execution_count": 50,
   "metadata": {
    "colab": {
     "base_uri": "https://localhost:8080/"
    },
    "id": "KCEVd4xOD4PG",
    "outputId": "f1af3ebe-7750-4ee8-d530-8c28947715e7"
   },
   "outputs": [
    {
     "name": "stdout",
     "output_type": "stream",
     "text": [
      "mape: 0.04618225719226569\n",
      "rsme: 290.41325908001744\n"
     ]
    }
   ],
   "source": [
    "mape = np.mean(np.abs(fc - test.values)/np.abs(test.values))\n",
    "rmse = np.mean((fc - test.values)**2)**.5\n",
    "print(\"mape:\",mape)\n",
    "print(\"rsme:\",rmse)"
   ]
  },
  {
   "cell_type": "markdown",
   "metadata": {
    "id": "ifYAW3ABFak_"
   },
   "source": [
    "SARIMA Better than ARIMA"
   ]
  },
  {
   "cell_type": "code",
   "execution_count": null,
   "metadata": {
    "id": "0T-y5PbUDc_e"
   },
   "outputs": [],
   "source": []
  },
  {
   "cell_type": "code",
   "execution_count": null,
   "metadata": {},
   "outputs": [],
   "source": []
  },
  {
   "cell_type": "code",
   "execution_count": null,
   "metadata": {},
   "outputs": [],
   "source": []
  },
  {
   "cell_type": "code",
   "execution_count": null,
   "metadata": {},
   "outputs": [],
   "source": []
  },
  {
   "cell_type": "code",
   "execution_count": null,
   "metadata": {},
   "outputs": [],
   "source": []
  },
  {
   "cell_type": "code",
   "execution_count": null,
   "metadata": {},
   "outputs": [],
   "source": []
  },
  {
   "cell_type": "code",
   "execution_count": null,
   "metadata": {},
   "outputs": [],
   "source": []
  },
  {
   "cell_type": "code",
   "execution_count": null,
   "metadata": {},
   "outputs": [],
   "source": []
  },
  {
   "cell_type": "code",
   "execution_count": null,
   "metadata": {},
   "outputs": [],
   "source": []
  },
  {
   "cell_type": "code",
   "execution_count": null,
   "metadata": {},
   "outputs": [],
   "source": []
  },
  {
   "cell_type": "code",
   "execution_count": null,
   "metadata": {},
   "outputs": [],
   "source": []
  },
  {
   "cell_type": "code",
   "execution_count": null,
   "metadata": {},
   "outputs": [],
   "source": []
  },
  {
   "cell_type": "code",
   "execution_count": null,
   "metadata": {},
   "outputs": [],
   "source": []
  }
 ],
 "metadata": {
  "colab": {
   "provenance": []
  },
  "kernelspec": {
   "display_name": "Python 3 (ipykernel)",
   "language": "python",
   "name": "python3"
  },
  "language_info": {
   "codemirror_mode": {
    "name": "ipython",
    "version": 3
   },
   "file_extension": ".py",
   "mimetype": "text/x-python",
   "name": "python",
   "nbconvert_exporter": "python",
   "pygments_lexer": "ipython3",
   "version": "3.9.7"
  }
 },
 "nbformat": 4,
 "nbformat_minor": 1
}
